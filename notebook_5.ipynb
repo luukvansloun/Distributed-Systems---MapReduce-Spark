{
 "cells": [
  {
   "cell_type": "markdown",
   "metadata": {},
   "source": [
    "## Assignment 5:\n",
    "Number of Stops within a radious of a certain position (lat, long), calculated using the location data given in the *zipcodes.csv* and the De Lijn data of all stops in Belgium in the *stops.txt*. Since the only locations for towns are found in *zipcodes.csv*, we need to interpret the term *town* as a district, as it's used in the De Lijn data as well."
   ]
  },
  {
   "cell_type": "markdown",
   "metadata": {},
   "source": [
    "#### Setup SparkContext & SQLContext\n",
    "The SparkContext is required to setup other aspects of this project. SQLContext allows us to read the *stops.txt* directly into a JSON dataframe, resulting in easy readability and better access to the read data."
   ]
  },
  {
   "cell_type": "code",
   "execution_count": 96,
   "metadata": {},
   "outputs": [],
   "source": [
    "from pyspark import SparkContext\n",
    "from pyspark.sql import SQLContext\n",
    "spark = SparkSession.builder.appName(\"Ex5\").getOrCreate()\n",
    "sc = spark.sparkContext\n",
    "sqlContext = SQLContext(sc)"
   ]
  },
  {
   "cell_type": "markdown",
   "metadata": {},
   "source": [
    "#### Setup Stops\n",
    "As with the previous notebooks, we can read the De Lijn data from the *stops.txt*. The following function is designed to read and parse the JSON code in the *stops.txt*."
   ]
  },
  {
   "cell_type": "code",
   "execution_count": 97,
   "metadata": {},
   "outputs": [],
   "source": [
    "def parseJSON(f):\n",
    "    import json\n",
    "    f = open(f)\n",
    "    data = json.load(f)\n",
    "    f.close()\n",
    "    return data"
   ]
  },
  {
   "cell_type": "markdown",
   "metadata": {},
   "source": [
    "Using the function above we can load the JSON data and create a dataframe. This dataframe will contain geocoordinates for each stop. These coordinates will be used to calculate the distance to the town in which it's located."
   ]
  },
  {
   "cell_type": "code",
   "execution_count": 98,
   "metadata": {},
   "outputs": [],
   "source": [
    "stops = parseJSON(\"data/stops.txt\")\n",
    "columns = [\"stop\", \"town\", \"stop_latitude\", \"stop_longitude\"]\n",
    "rows = []\n",
    "for stop in stops[\"haltes\"]:\n",
    "    try:\n",
    "        row = (stop[\"omschrijving\"], stop[\"omschrijvingGemeente\"], stop[\"geoCoordinaat\"][\"latitude\"], stop[\"geoCoordinaat\"][\"longitude\"])\n",
    "    except:\n",
    "        continue\n",
    "    rows.append(row)\n",
    "    \n",
    "stopsDF = spark.createDataFrame(rows, columns)"
   ]
  },
  {
   "cell_type": "code",
   "execution_count": 99,
   "metadata": {},
   "outputs": [
    {
     "name": "stdout",
     "output_type": "stream",
     "text": [
      "+--------------------+---------+------------------+------------------+\n",
      "|                stop|     town|     stop_latitude|    stop_longitude|\n",
      "+--------------------+---------+------------------+------------------+\n",
      "| A. Chantrainestraat|  Wilrijk| 51.16388937021345| 4.392073389160737|\n",
      "|           Zurenborg|Antwerpen| 51.20624969023759|  4.42550621473228|\n",
      "|Verenigde Natieslaan|  Hoboken| 51.16606659417422| 4.357705800030343|\n",
      "|Verenigde Natieslaan|  Hoboken|51.166021637406374| 4.357548549004122|\n",
      "|     D. Baginierlaan|  Hoboken|51.174054839412754| 4.341260275816016|\n",
      "| A. Chantrainestraat|  Wilrijk| 51.16300843934687| 4.392315960084608|\n",
      "|      Fotografielaan|  Wilrijk|51.159774888706686|  4.36212420848111|\n",
      "|      Fotografielaan|  Wilrijk| 51.15996363300075| 4.361809703307476|\n",
      "|            Moerelei|  Wilrijk| 51.16295566692438| 4.385797177482637|\n",
      "|            Moerelei|  Wilrijk|51.163459288346274|  4.38396752309872|\n",
      "|        J. De Voslei|Antwerpen|51.188743165936835| 4.389583082467416|\n",
      "|   Middelheim Vijver|Antwerpen| 51.18297254153696| 4.418927404052235|\n",
      "|          Antarctica|  Wilrijk| 51.16220188106436| 4.372316437753825|\n",
      "|          Antarctica|  Wilrijk| 51.16195022546374| 4.371558768815994|\n",
      "|     Rozenkransplein|  Wilrijk| 51.17942171543447| 4.391480757849793|\n",
      "|     Rozenkransplein|  Wilrijk| 51.17950258375939| 4.391623804277545|\n",
      "|   L. Kieboomsstraat|  Wilrijk|  51.1750618209695| 4.393666351257672|\n",
      "|   L. Kieboomsstraat|  Wilrijk| 51.17543040984701| 4.393394866080753|\n",
      "|         Rooiboslaan|  Wilrijk|51.176906438662385|4.3818843374408045|\n",
      "|         Rooiboslaan|  Wilrijk|  51.1766817117476|4.3819986686294135|\n",
      "+--------------------+---------+------------------+------------------+\n",
      "only showing top 20 rows\n",
      "\n"
     ]
    }
   ],
   "source": [
    "stopsDF.show()"
   ]
  },
  {
   "cell_type": "markdown",
   "metadata": {},
   "source": [
    "#### Setup Towns\n",
    "The *zipcodes.csv* file contains all towns in Belgium with their geocoordinates. These can be used to calculate the distance of each stop. Using the earlier setup *SQLContext* we can extract the data."
   ]
  },
  {
   "cell_type": "code",
   "execution_count": 100,
   "metadata": {},
   "outputs": [],
   "source": [
    "townsDF = sqlContext.read.csv(\"data/zipcodes.csv\", sep=\";\").selectExpr(\"_c0 as zipcode\", \"_c1 as town\", \"_c2 as town_latitude\", \"_c3 as town_longitude\")"
   ]
  },
  {
   "cell_type": "code",
   "execution_count": 101,
   "metadata": {},
   "outputs": [
    {
     "name": "stdout",
     "output_type": "stream",
     "text": [
      "+-------+--------------------+-----------------+-----------------+\n",
      "|zipcode|                town|    town_latitude|   town_longitude|\n",
      "+-------+--------------------+-----------------+-----------------+\n",
      "|   1000|             Brussel|       50.8427501|4.351549900000009|\n",
      "|   1000|           Bruxelles|       50.8427501|4.351549900000009|\n",
      "|   1005|Ass. R�un. Com. C...|             null|             null|\n",
      "|   1005|Brusselse Hoofdst...|50.84487679999999|4.351433499999985|\n",
      "|   1005|Conseil Region Br...|        50.847857|4.367408000000069|\n",
      "|   1005|Ver. Verg. Gemeen...|             null|             null|\n",
      "|   1006|Raad Vlaamse Geme...|             null|             null|\n",
      "|   1007|Ass. Commiss. Com...|             null|             null|\n",
      "|   1008|Chambre des Repr�...|50.84655679999999|4.364662199999998|\n",
      "|   1008|Kamer van Volksve...|50.84655679999999|4.364662199999998|\n",
      "|   1009|    Belgische Senaat|             null|             null|\n",
      "|   1009|   Senat de Belgique|         50.79834|4.395649999999932|\n",
      "|   1010|Cit� Administrati...|             null|             null|\n",
      "|   1010|Rijksadministrati...|       50.8243276|4.513954300000023|\n",
      "|   1011|Vlaamse Raad - Vl...|             null|             null|\n",
      "|   1012|Parlement de la C...|       50.8466387|4.361992399999963|\n",
      "|   1020|     Brussel (Laken)|        50.884218|4.358000199999992|\n",
      "|   1020|  Bruxelles (Laeken)|        50.884218|4.358000199999992|\n",
      "|   1020|  Laeken (Bruxelles)|        50.884218|4.358000199999992|\n",
      "|   1020|     Laken (Brussel)|        50.884218|4.358000199999992|\n",
      "+-------+--------------------+-----------------+-----------------+\n",
      "only showing top 20 rows\n",
      "\n"
     ]
    }
   ],
   "source": [
    "townsDF.show()"
   ]
  },
  {
   "cell_type": "markdown",
   "metadata": {},
   "source": [
    "Since multiple town names can be seen within the *town* column above, single names need to be extracted before the join can be executed."
   ]
  },
  {
   "cell_type": "code",
   "execution_count": 102,
   "metadata": {},
   "outputs": [],
   "source": [
    "from pyspark.sql.types import *\n",
    "from pyspark.sql.functions import udf\n",
    "\n",
    "cleanName = udf(lambda x: x.split(\" \")[0], StringType())\n",
    "\n",
    "towns = townsDF.withColumn(\"town\", cleanName(townsDF[\"town\"]))"
   ]
  },
  {
   "cell_type": "code",
   "execution_count": 103,
   "metadata": {},
   "outputs": [
    {
     "name": "stdout",
     "output_type": "stream",
     "text": [
      "+-------+-------------------+-----------------+-----------------+\n",
      "|zipcode|               town|    town_latitude|   town_longitude|\n",
      "+-------+-------------------+-----------------+-----------------+\n",
      "|   1000|            Brussel|       50.8427501|4.351549900000009|\n",
      "|   1000|          Bruxelles|       50.8427501|4.351549900000009|\n",
      "|   1005|               Ass.|             null|             null|\n",
      "|   1005|          Brusselse|50.84487679999999|4.351433499999985|\n",
      "|   1005|            Conseil|        50.847857|4.367408000000069|\n",
      "|   1005|               Ver.|             null|             null|\n",
      "|   1006|               Raad|             null|             null|\n",
      "|   1007|               Ass.|             null|             null|\n",
      "|   1008|            Chambre|50.84655679999999|4.364662199999998|\n",
      "|   1008|              Kamer|50.84655679999999|4.364662199999998|\n",
      "|   1009|          Belgische|             null|             null|\n",
      "|   1009|              Senat|         50.79834|4.395649999999932|\n",
      "|   1010|               Cit�|             null|             null|\n",
      "|   1010|Rijksadministratief|       50.8243276|4.513954300000023|\n",
      "|   1011|            Vlaamse|             null|             null|\n",
      "|   1012|          Parlement|       50.8466387|4.361992399999963|\n",
      "|   1020|            Brussel|        50.884218|4.358000199999992|\n",
      "|   1020|          Bruxelles|        50.884218|4.358000199999992|\n",
      "|   1020|             Laeken|        50.884218|4.358000199999992|\n",
      "|   1020|              Laken|        50.884218|4.358000199999992|\n",
      "+-------+-------------------+-----------------+-----------------+\n",
      "only showing top 20 rows\n",
      "\n"
     ]
    }
   ],
   "source": [
    "towns.show()"
   ]
  },
  {
   "cell_type": "markdown",
   "metadata": {},
   "source": [
    "We can now join our stops and towns to create a table with for each stop its coordinates and the coordinates of the corresponding town."
   ]
  },
  {
   "cell_type": "code",
   "execution_count": 104,
   "metadata": {},
   "outputs": [],
   "source": [
    "joined_dfs = stopsDF.join(towns, on=[\"town\"])"
   ]
  },
  {
   "cell_type": "code",
   "execution_count": 105,
   "metadata": {},
   "outputs": [
    {
     "name": "stdout",
     "output_type": "stream",
     "text": [
      "+---------+--------------------+------------------+-----------------+-------+-----------------+------------------+\n",
      "|     town|                stop|     stop_latitude|   stop_longitude|zipcode|    town_latitude|    town_longitude|\n",
      "+---------+--------------------+------------------+-----------------+-------+-----------------+------------------+\n",
      "|  Wilrijk| A. Chantrainestraat| 51.16388937021345|4.392073389160737|   2610|       51.1683102| 4.394286800000032|\n",
      "|Antwerpen|           Zurenborg| 51.20624969023759| 4.42550621473228|   2060|       51.2293515| 4.427988300000038|\n",
      "|Antwerpen|           Zurenborg| 51.20624969023759| 4.42550621473228|   2050|       51.2287575| 4.374022100000047|\n",
      "|Antwerpen|           Zurenborg| 51.20624969023759| 4.42550621473228|   2040|51.34183059999999|4.2964604999999665|\n",
      "|Antwerpen|           Zurenborg| 51.20624969023759| 4.42550621473228|   2030|51.27639629999999| 4.362460400000032|\n",
      "|Antwerpen|           Zurenborg| 51.20624969023759| 4.42550621473228|   2020|       51.1890846|4.3836284000000205|\n",
      "|Antwerpen|           Zurenborg| 51.20624969023759| 4.42550621473228|   2018|       51.2037695| 4.411263700000063|\n",
      "|Antwerpen|           Zurenborg| 51.20624969023759| 4.42550621473228|   2000|       51.2198771| 4.401135599999975|\n",
      "|  Hoboken|Verenigde Natieslaan| 51.16606659417422|4.357705800030343|   2660|       51.1775732| 4.349919999999997|\n",
      "|  Hoboken|Verenigde Natieslaan|51.166021637406374|4.357548549004122|   2660|       51.1775732| 4.349919999999997|\n",
      "|  Hoboken|     D. Baginierlaan|51.174054839412754|4.341260275816016|   2660|       51.1775732| 4.349919999999997|\n",
      "|  Wilrijk| A. Chantrainestraat| 51.16300843934687|4.392315960084608|   2610|       51.1683102| 4.394286800000032|\n",
      "|  Wilrijk|      Fotografielaan|51.159774888706686| 4.36212420848111|   2610|       51.1683102| 4.394286800000032|\n",
      "|  Wilrijk|      Fotografielaan| 51.15996363300075|4.361809703307476|   2610|       51.1683102| 4.394286800000032|\n",
      "|  Wilrijk|            Moerelei| 51.16295566692438|4.385797177482637|   2610|       51.1683102| 4.394286800000032|\n",
      "|  Wilrijk|            Moerelei|51.163459288346274| 4.38396752309872|   2610|       51.1683102| 4.394286800000032|\n",
      "|Antwerpen|        J. De Voslei|51.188743165936835|4.389583082467416|   2060|       51.2293515| 4.427988300000038|\n",
      "|Antwerpen|        J. De Voslei|51.188743165936835|4.389583082467416|   2050|       51.2287575| 4.374022100000047|\n",
      "|Antwerpen|        J. De Voslei|51.188743165936835|4.389583082467416|   2040|51.34183059999999|4.2964604999999665|\n",
      "|Antwerpen|        J. De Voslei|51.188743165936835|4.389583082467416|   2030|51.27639629999999| 4.362460400000032|\n",
      "+---------+--------------------+------------------+-----------------+-------+-----------------+------------------+\n",
      "only showing top 20 rows\n",
      "\n"
     ]
    }
   ],
   "source": [
    "joined_dfs.show()"
   ]
  },
  {
   "cell_type": "markdown",
   "metadata": {},
   "source": [
    "#### Calculating the distances\n",
    "The following function is used to calculate the distance between the stop and its corresponding town in kilometers, using the radius of the earth."
   ]
  },
  {
   "cell_type": "code",
   "execution_count": 106,
   "metadata": {},
   "outputs": [],
   "source": [
    "from math import sin, cos, sqrt, atan2, radians\n",
    "\n",
    "# Copyright: https://stackoverflow.com/questions/19412462/getting-distance-between-two-points-based-on-latitude-longitude\n",
    "def distance(stop_lat, stop_long, town_lat, town_long):\n",
    "    R = 6373.0\n",
    "\n",
    "    lat1 = radians(float(stop_lat))\n",
    "    lon1 = radians(float(stop_long))\n",
    "    lat2 = radians(float(town_lat))\n",
    "    lon2 = radians(float(town_long))\n",
    "\n",
    "    dlon = lon2 - lon1\n",
    "    dlat = lat2 - lat1\n",
    "\n",
    "    a = sin(dlat / 2)**2 + cos(lat1) * cos(lat2) * sin(dlon / 2)**2\n",
    "    c = 2 * atan2(sqrt(a), sqrt(1 - a))\n",
    "\n",
    "    distance = R * c\n",
    "\n",
    "    return distance\n",
    "\n",
    "calculate_distance = udf(distance, DoubleType())"
   ]
  },
  {
   "cell_type": "code",
   "execution_count": 107,
   "metadata": {},
   "outputs": [],
   "source": [
    "stops_distances = joined_dfs.withColumn(\"distance\", calculate_distance(joined_dfs[\"stop_latitude\"], joined_dfs[\"stop_longitude\"], joined_dfs[\"town_latitude\"], joined_dfs[\"town_longitude\"]))"
   ]
  },
  {
   "cell_type": "code",
   "execution_count": 108,
   "metadata": {},
   "outputs": [
    {
     "name": "stdout",
     "output_type": "stream",
     "text": [
      "+---------+-------------------+-----------------+-----------------+-------+-----------------+------------------+------------------+\n",
      "|     town|               stop|    stop_latitude|   stop_longitude|zipcode|    town_latitude|    town_longitude|          distance|\n",
      "+---------+-------------------+-----------------+-----------------+-------+-----------------+------------------+------------------+\n",
      "|  Wilrijk|A. Chantrainestraat|51.16388937021345|4.392073389160737|   2610|       51.1683102| 4.394286800000032|0.5153933302667436|\n",
      "|Antwerpen|          Zurenborg|51.20624969023759| 4.42550621473228|   2060|       51.2293515| 4.427988300000038|2.5754226142730405|\n",
      "|Antwerpen|          Zurenborg|51.20624969023759| 4.42550621473228|   2050|       51.2287575| 4.374022100000047|  4.37421465495574|\n",
      "|Antwerpen|          Zurenborg|51.20624969023759| 4.42550621473228|   2040|51.34183059999999|4.2964604999999665| 17.55162328501925|\n",
      "|Antwerpen|          Zurenborg|51.20624969023759| 4.42550621473228|   2030|51.27639629999999| 4.362460400000032| 8.952703605860485|\n",
      "+---------+-------------------+-----------------+-----------------+-------+-----------------+------------------+------------------+\n",
      "only showing top 5 rows\n",
      "\n"
     ]
    }
   ],
   "source": [
    "stops_distances.show(5)"
   ]
  },
  {
   "cell_type": "markdown",
   "metadata": {},
   "source": [
    "#### Dataframe Cleanup\n",
    "Since the created dataframe above is quite hard to read due to too many columns with long values, a bit of cleanup is required to make the dataframe easier to read. For this, all the latitudes and longitudes are dropped, since these are not necessary when we're just interested in the distance between the specific stop and it's corresponding town. Since several towns are separated into multiple zipcodes, the zipcode is kept in the dataframe to easily show the differences between the towns."
   ]
  },
  {
   "cell_type": "code",
   "execution_count": 109,
   "metadata": {},
   "outputs": [],
   "source": [
    "stops_towns_dists = stops_distances.selectExpr(\"town as town\", \"zipcode as zipcode\", \"stop as stop\", \"distance as distance\")"
   ]
  },
  {
   "cell_type": "code",
   "execution_count": 110,
   "metadata": {},
   "outputs": [
    {
     "name": "stdout",
     "output_type": "stream",
     "text": [
      "+---------+-------+--------------------+------------------+\n",
      "|     town|zipcode|                stop|          distance|\n",
      "+---------+-------+--------------------+------------------+\n",
      "|  Wilrijk|   2610| A. Chantrainestraat|0.5153933302667436|\n",
      "|Antwerpen|   2060|           Zurenborg|2.5754226142730405|\n",
      "|Antwerpen|   2050|           Zurenborg|  4.37421465495574|\n",
      "|Antwerpen|   2040|           Zurenborg| 17.55162328501925|\n",
      "|Antwerpen|   2030|           Zurenborg| 8.952703605860485|\n",
      "|Antwerpen|   2020|           Zurenborg| 3.487883653679154|\n",
      "|Antwerpen|   2018|           Zurenborg|1.0301779473634403|\n",
      "|Antwerpen|   2000|           Zurenborg|2.2761900085359903|\n",
      "|  Hoboken|   2660|Verenigde Natieslaan|1.3902926229584962|\n",
      "|  Hoboken|   2660|Verenigde Natieslaan| 1.390665295983725|\n",
      "|  Hoboken|   2660|     D. Baginierlaan|0.7195942952328143|\n",
      "|  Wilrijk|   2610| A. Chantrainestraat|0.6055236729885773|\n",
      "|  Wilrijk|   2610|      Fotografielaan|2.4360024831857428|\n",
      "|  Wilrijk|   2610|      Fotografielaan| 2.448177616744142|\n",
      "|  Wilrijk|   2610|            Moerelei|0.8398531104785122|\n",
      "|  Wilrijk|   2610|            Moerelei|0.8995440990755089|\n",
      "|Antwerpen|   2060|        J. De Voslei| 5.250150002571887|\n",
      "|Antwerpen|   2050|        J. De Voslei| 4.580973943920251|\n",
      "|Antwerpen|   2040|        J. De Voslei|18.219615548940126|\n",
      "|Antwerpen|   2030|        J. De Voslei|  9.93096132291638|\n",
      "+---------+-------+--------------------+------------------+\n",
      "only showing top 20 rows\n",
      "\n"
     ]
    }
   ],
   "source": [
    "stops_towns_dists.show()"
   ]
  }
 ],
 "metadata": {
  "kernelspec": {
   "display_name": "Python 3",
   "language": "python",
   "name": "python3"
  },
  "language_info": {
   "codemirror_mode": {
    "name": "ipython",
    "version": 3
   },
   "file_extension": ".py",
   "mimetype": "text/x-python",
   "name": "python",
   "nbconvert_exporter": "python",
   "pygments_lexer": "ipython3",
   "version": "3.6.9"
  }
 },
 "nbformat": 4,
 "nbformat_minor": 2
}
