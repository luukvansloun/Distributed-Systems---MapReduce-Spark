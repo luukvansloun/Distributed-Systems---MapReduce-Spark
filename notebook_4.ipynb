{
 "cells": [
  {
   "cell_type": "markdown",
   "metadata": {},
   "source": [
    "## Assignment 4:\n",
    "Number of Stops within a radious of a certain position (lat, long), calculated using the De Lijn data of all stops in Belgium in the *stops.txt*."
   ]
  },
  {
   "cell_type": "markdown",
   "metadata": {},
   "source": [
    "#### Input Variables\n",
    "Please set the desired position in *INPUT_POSITION* using the (latitude, longitude) notation. The desired radius in kilometers can be entered into *INPUT_RADIUS*."
   ]
  },
  {
   "cell_type": "code",
   "execution_count": 29,
   "metadata": {},
   "outputs": [],
   "source": [
    "INPUT_POSITION = (51.2181962, 4.4244759)\n",
    "INPUT_RADIUS = 5"
   ]
  },
  {
   "cell_type": "markdown",
   "metadata": {},
   "source": [
    "#### Setup Spark\n",
    "The Spark object is required to later on create dataframes and perform transformations on them."
   ]
  },
  {
   "cell_type": "code",
   "execution_count": 30,
   "metadata": {},
   "outputs": [],
   "source": [
    "from pyspark import SparkContext\n",
    "spark = SparkSession.builder.appName(\"Ex4\").getOrCreate()"
   ]
  },
  {
   "cell_type": "markdown",
   "metadata": {},
   "source": [
    "#### Calculating the distance\n",
    "The following function is designed to calculate the distance between positions, both given in (lat, long) format. The calculation is based on the radius of the earth in kilometers."
   ]
  },
  {
   "cell_type": "code",
   "execution_count": 31,
   "metadata": {},
   "outputs": [],
   "source": [
    "from math import sin, cos, sqrt, atan2, radians\n",
    "\n",
    "# Copyright: https://stackoverflow.com/questions/19412462/getting-distance-between-two-points-based-on-latitude-longitude\n",
    "def is_within_radius(lat, long):\n",
    "    R = 6373.0\n",
    "\n",
    "    lat1 = radians(INPUT_POSITION[0])\n",
    "    lon1 = radians(INPUT_POSITION[1])\n",
    "    lat2 = radians(lat)\n",
    "    lon2 = radians(long)\n",
    "\n",
    "    dlon = lon2 - lon1\n",
    "    dlat = lat2 - lat1\n",
    "\n",
    "    a = sin(dlat / 2)**2 + cos(lat1) * cos(lat2) * sin(dlon / 2)**2\n",
    "    c = 2 * atan2(sqrt(a), sqrt(1 - a))\n",
    "\n",
    "    distance = R * c\n",
    "\n",
    "    if distance <= INPUT_RADIUS:\n",
    "        return True\n",
    "    else:\n",
    "        return False"
   ]
  },
  {
   "cell_type": "markdown",
   "metadata": {},
   "source": [
    "#### Setup Stops\n",
    "As with the previous notebooks, we can read the De Lijn data from the *stops.txt*. The following function is designed to read and parse the JSON code in the *stops.txt*."
   ]
  },
  {
   "cell_type": "code",
   "execution_count": 32,
   "metadata": {},
   "outputs": [],
   "source": [
    "def parseJSON(f):\n",
    "    import json\n",
    "    f = open(f)\n",
    "    data = json.load(f)\n",
    "    f.close()\n",
    "    return data"
   ]
  },
  {
   "cell_type": "markdown",
   "metadata": {},
   "source": [
    "Using the function above we can load the JSON data and create a dataframe. This dataframe will contain geocoordinates for each stop. These coordinates will be used to check whether the stop is within distance of the requested location."
   ]
  },
  {
   "cell_type": "code",
   "execution_count": 33,
   "metadata": {},
   "outputs": [],
   "source": [
    "stops = parseJSON(\"data/stops.txt\")\n",
    "columns = [\"stop\", \"latitude\", \"longitude\"]\n",
    "rows = []\n",
    "for stop in stops[\"haltes\"]:\n",
    "    try:\n",
    "        row = (stop[\"omschrijving\"], stop[\"geoCoordinaat\"][\"latitude\"], stop[\"geoCoordinaat\"][\"longitude\"])\n",
    "    except:\n",
    "        continue\n",
    "    rows.append(row)\n",
    "    \n",
    "stopsDF = spark.createDataFrame(rows, columns)"
   ]
  },
  {
   "cell_type": "code",
   "execution_count": 34,
   "metadata": {},
   "outputs": [
    {
     "name": "stdout",
     "output_type": "stream",
     "text": [
      "+--------------------+------------------+------------------+\n",
      "|                stop|          latitude|         longitude|\n",
      "+--------------------+------------------+------------------+\n",
      "| A. Chantrainestraat| 51.16388937021345| 4.392073389160737|\n",
      "|           Zurenborg| 51.20624969023759|  4.42550621473228|\n",
      "|Verenigde Natieslaan| 51.16606659417422| 4.357705800030343|\n",
      "|Verenigde Natieslaan|51.166021637406374| 4.357548549004122|\n",
      "|     D. Baginierlaan|51.174054839412754| 4.341260275816016|\n",
      "| A. Chantrainestraat| 51.16300843934687| 4.392315960084608|\n",
      "|      Fotografielaan|51.159774888706686|  4.36212420848111|\n",
      "|      Fotografielaan| 51.15996363300075| 4.361809703307476|\n",
      "|            Moerelei| 51.16295566692438| 4.385797177482637|\n",
      "|            Moerelei|51.163459288346274|  4.38396752309872|\n",
      "|        J. De Voslei|51.188743165936835| 4.389583082467416|\n",
      "|   Middelheim Vijver| 51.18297254153696| 4.418927404052235|\n",
      "|          Antarctica| 51.16220188106436| 4.372316437753825|\n",
      "|          Antarctica| 51.16195022546374| 4.371558768815994|\n",
      "|     Rozenkransplein| 51.17942171543447| 4.391480757849793|\n",
      "|     Rozenkransplein| 51.17950258375939| 4.391623804277545|\n",
      "|   L. Kieboomsstraat|  51.1750618209695| 4.393666351257672|\n",
      "|   L. Kieboomsstraat| 51.17543040984701| 4.393394866080753|\n",
      "|         Rooiboslaan|51.176906438662385|4.3818843374408045|\n",
      "|         Rooiboslaan|  51.1766817117476|4.3819986686294135|\n",
      "+--------------------+------------------+------------------+\n",
      "only showing top 20 rows\n",
      "\n"
     ]
    }
   ],
   "source": [
    "stopsDF.show()"
   ]
  },
  {
   "cell_type": "markdown",
   "metadata": {},
   "source": [
    "#### Counting the number of stops within the radius\n",
    "To find the total number of stops, we will go over each row within the *stopsDF* dataframe and check, using the created *is_within_radius* function, if the stop is located within the given radius."
   ]
  },
  {
   "cell_type": "code",
   "execution_count": 35,
   "metadata": {},
   "outputs": [
    {
     "name": "stdout",
     "output_type": "stream",
     "text": [
      "Total number of stops within given radius: 916\n"
     ]
    }
   ],
   "source": [
    "total_stops_in_radius = 0\n",
    "\n",
    "for row in stopsDF.rdd.collect():\n",
    "    if is_within_radius(row[1], row[2]):\n",
    "        total_stops_in_radius += 1\n",
    "        \n",
    "print(\"Total number of stops within given radius: {}\".format(total_stops_in_radius))"
   ]
  }
 ],
 "metadata": {
  "kernelspec": {
   "display_name": "Python 3",
   "language": "python",
   "name": "python3"
  },
  "language_info": {
   "codemirror_mode": {
    "name": "ipython",
    "version": 3
   },
   "file_extension": ".py",
   "mimetype": "text/x-python",
   "name": "python",
   "nbconvert_exporter": "python",
   "pygments_lexer": "ipython3",
   "version": "3.6.9"
  }
 },
 "nbformat": 4,
 "nbformat_minor": 2
}
