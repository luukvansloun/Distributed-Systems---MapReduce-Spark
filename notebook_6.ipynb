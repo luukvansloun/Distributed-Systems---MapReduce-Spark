{
 "cells": [
  {
   "cell_type": "markdown",
   "metadata": {},
   "source": [
    "## Assignment 6:\n",
    "The closest stop to a given position (lat, long), calculated using the De Lijn data of all stops in Belgium in the *stops.txt*."
   ]
  },
  {
   "cell_type": "markdown",
   "metadata": {},
   "source": [
    "#### Input Position\n",
    "Please set the desired position using the (latitude, longitude) notation."
   ]
  },
  {
   "cell_type": "code",
   "execution_count": 77,
   "metadata": {},
   "outputs": [],
   "source": [
    "INPUT_POSITION = (51.2181962, 4.4244759)"
   ]
  },
  {
   "cell_type": "markdown",
   "metadata": {},
   "source": [
    "#### Setup SparkContext\n",
    "The SparkContext is required to setup other aspects of this project, such as the dataframes and their transformations."
   ]
  },
  {
   "cell_type": "code",
   "execution_count": 78,
   "metadata": {},
   "outputs": [],
   "source": [
    "from pyspark import SparkContext\n",
    "spark = SparkSession.builder.appName(\"Ex6\").getOrCreate()\n",
    "sc = spark.sparkContext"
   ]
  },
  {
   "cell_type": "markdown",
   "metadata": {},
   "source": [
    "#### Setup Stops\n",
    "As with the previous notebooks, we can read the De Lijn data from the *stops.txt*. The following function is designed to read and parse the JSON code in the *stops.txt*."
   ]
  },
  {
   "cell_type": "code",
   "execution_count": 79,
   "metadata": {},
   "outputs": [],
   "source": [
    "def parseJSON(f):\n",
    "    import json\n",
    "    f = open(f)\n",
    "    data = json.load(f)\n",
    "    f.close()\n",
    "    return data"
   ]
  },
  {
   "cell_type": "markdown",
   "metadata": {},
   "source": [
    "Using the function above we can load the JSON data and create a dataframe. This dataframe will contain geocoordinates for each stop. These coordinates will be used to calculate the distance to the town in which it's located."
   ]
  },
  {
   "cell_type": "code",
   "execution_count": 80,
   "metadata": {},
   "outputs": [],
   "source": [
    "stops = parseJSON(\"data/stops.txt\")\n",
    "columns = [\"stop\", \"town\", \"stop_latitude\", \"stop_longitude\"]\n",
    "rows = []\n",
    "for stop in stops[\"haltes\"]:\n",
    "    try:\n",
    "        row = (stop[\"omschrijving\"], stop[\"omschrijvingGemeente\"], stop[\"geoCoordinaat\"][\"latitude\"], stop[\"geoCoordinaat\"][\"longitude\"])\n",
    "    except:\n",
    "        continue\n",
    "    rows.append(row)\n",
    "    \n",
    "stopsDF = spark.createDataFrame(rows, columns)"
   ]
  },
  {
   "cell_type": "code",
   "execution_count": 81,
   "metadata": {},
   "outputs": [
    {
     "name": "stdout",
     "output_type": "stream",
     "text": [
      "+--------------------+---------+------------------+------------------+\n",
      "|                stop|     town|     stop_latitude|    stop_longitude|\n",
      "+--------------------+---------+------------------+------------------+\n",
      "| A. Chantrainestraat|  Wilrijk| 51.16388937021345| 4.392073389160737|\n",
      "|           Zurenborg|Antwerpen| 51.20624969023759|  4.42550621473228|\n",
      "|Verenigde Natieslaan|  Hoboken| 51.16606659417422| 4.357705800030343|\n",
      "|Verenigde Natieslaan|  Hoboken|51.166021637406374| 4.357548549004122|\n",
      "|     D. Baginierlaan|  Hoboken|51.174054839412754| 4.341260275816016|\n",
      "| A. Chantrainestraat|  Wilrijk| 51.16300843934687| 4.392315960084608|\n",
      "|      Fotografielaan|  Wilrijk|51.159774888706686|  4.36212420848111|\n",
      "|      Fotografielaan|  Wilrijk| 51.15996363300075| 4.361809703307476|\n",
      "|            Moerelei|  Wilrijk| 51.16295566692438| 4.385797177482637|\n",
      "|            Moerelei|  Wilrijk|51.163459288346274|  4.38396752309872|\n",
      "|        J. De Voslei|Antwerpen|51.188743165936835| 4.389583082467416|\n",
      "|   Middelheim Vijver|Antwerpen| 51.18297254153696| 4.418927404052235|\n",
      "|          Antarctica|  Wilrijk| 51.16220188106436| 4.372316437753825|\n",
      "|          Antarctica|  Wilrijk| 51.16195022546374| 4.371558768815994|\n",
      "|     Rozenkransplein|  Wilrijk| 51.17942171543447| 4.391480757849793|\n",
      "|     Rozenkransplein|  Wilrijk| 51.17950258375939| 4.391623804277545|\n",
      "|   L. Kieboomsstraat|  Wilrijk|  51.1750618209695| 4.393666351257672|\n",
      "|   L. Kieboomsstraat|  Wilrijk| 51.17543040984701| 4.393394866080753|\n",
      "|         Rooiboslaan|  Wilrijk|51.176906438662385|4.3818843374408045|\n",
      "|         Rooiboslaan|  Wilrijk|  51.1766817117476|4.3819986686294135|\n",
      "+--------------------+---------+------------------+------------------+\n",
      "only showing top 20 rows\n",
      "\n"
     ]
    }
   ],
   "source": [
    "stopsDF.show()"
   ]
  },
  {
   "cell_type": "markdown",
   "metadata": {},
   "source": [
    "#### Calculating the distances\n",
    "The following function will be used to calculate the distance between each stop and the given position."
   ]
  },
  {
   "cell_type": "code",
   "execution_count": 82,
   "metadata": {},
   "outputs": [],
   "source": [
    "from pyspark.sql.functions import udf\n",
    "from pyspark.sql.types import *\n",
    "from math import sin, cos, sqrt, atan2, radians\n",
    "\n",
    "# Copyright: https://stackoverflow.com/questions/19412462/getting-distance-between-two-points-based-on-latitude-longitude\n",
    "def distance(stop_lat, stop_long):\n",
    "    R = 6373.0\n",
    "\n",
    "    lat1 = radians(float(stop_lat))\n",
    "    lon1 = radians(float(stop_long))\n",
    "    lat2 = radians(INPUT_POSITION[0])\n",
    "    lon2 = radians(INPUT_POSITION[1])\n",
    "\n",
    "    dlon = lon2 - lon1\n",
    "    dlat = lat2 - lat1\n",
    "\n",
    "    a = sin(dlat / 2)**2 + cos(lat1) * cos(lat2) * sin(dlon / 2)**2\n",
    "    c = 2 * atan2(sqrt(a), sqrt(1 - a))\n",
    "\n",
    "    distance = R * c\n",
    "\n",
    "    return distance\n",
    "\n",
    "calculate_distance = udf(distance, DoubleType())"
   ]
  },
  {
   "cell_type": "code",
   "execution_count": 83,
   "metadata": {},
   "outputs": [],
   "source": [
    "stops_distances_DF = stopsDF.withColumn(\"distance\", calculate_distance(stopsDF[\"stop_latitude\"], stopsDF[\"stop_longitude\"]))"
   ]
  },
  {
   "cell_type": "code",
   "execution_count": 84,
   "metadata": {},
   "outputs": [
    {
     "name": "stdout",
     "output_type": "stream",
     "text": [
      "+--------------------+---------+------------------+------------------+------------------+\n",
      "|                stop|     town|     stop_latitude|    stop_longitude|          distance|\n",
      "+--------------------+---------+------------------+------------------+------------------+\n",
      "| A. Chantrainestraat|  Wilrijk| 51.16388937021345| 4.392073389160737| 6.449053070753454|\n",
      "|           Zurenborg|Antwerpen| 51.20624969023759|  4.42550621473228|1.3307461782075731|\n",
      "|Verenigde Natieslaan|  Hoboken| 51.16606659417422| 4.357705800030343| 7.435399992260838|\n",
      "|Verenigde Natieslaan|  Hoboken|51.166021637406374| 4.357548549004122| 7.446164923701917|\n",
      "|     D. Baginierlaan|  Hoboken|51.174054839412754| 4.341260275816016| 7.599392968085201|\n",
      "| A. Chantrainestraat|  Wilrijk| 51.16300843934687| 4.392315960084608|  6.53510913228184|\n",
      "|      Fotografielaan|  Wilrijk|51.159774888706686|  4.36212420848111| 7.817984573315791|\n",
      "|      Fotografielaan|  Wilrijk| 51.15996363300075| 4.361809703307476| 7.812777257977161|\n",
      "|            Moerelei|  Wilrijk| 51.16295566692438| 4.385797177482637| 6.709982118954535|\n",
      "|            Moerelei|  Wilrijk|51.163459288346274|  4.38396752309872| 6.711379374090809|\n",
      "|        J. De Voslei|Antwerpen|51.188743165936835| 4.389583082467416|4.0799406532715725|\n",
      "|   Middelheim Vijver|Antwerpen| 51.18297254153696| 4.418927404052235|3.9369599687059114|\n",
      "|          Antarctica|  Wilrijk| 51.16220188106436| 4.372316437753825|7.2119634966800685|\n",
      "|          Antarctica|  Wilrijk| 51.16195022546374| 4.371558768815994| 7.262840494587712|\n",
      "|     Rozenkransplein|  Wilrijk| 51.17942171543447| 4.391480757849793| 4.887704403890974|\n",
      "|     Rozenkransplein|  Wilrijk| 51.17950258375939| 4.391623804277545| 4.875077410709796|\n",
      "|   L. Kieboomsstraat|  Wilrijk|  51.1750618209695| 4.393666351257672| 5.256509172336976|\n",
      "|   L. Kieboomsstraat|  Wilrijk| 51.17543040984701| 4.393394866080753| 5.226926517404031|\n",
      "|         Rooiboslaan|  Wilrijk|51.176906438662385|4.3818843374408045| 5.468585257784277|\n",
      "|         Rooiboslaan|  Wilrijk|  51.1766817117476|4.3819986686294135| 5.485293104129938|\n",
      "+--------------------+---------+------------------+------------------+------------------+\n",
      "only showing top 20 rows\n",
      "\n"
     ]
    }
   ],
   "source": [
    "stops_distances_DF.show()"
   ]
  },
  {
   "cell_type": "markdown",
   "metadata": {},
   "source": [
    "#### Finding closest Stop\n",
    "The closest stop can be found by simple iterating over all rows, checking whether it's distance to the given position is smaller than the previously found distances."
   ]
  },
  {
   "cell_type": "code",
   "execution_count": 85,
   "metadata": {},
   "outputs": [
    {
     "name": "stdout",
     "output_type": "stream",
     "text": [
      "+---------+---------+-----------------+-----------------+--------------------+\n",
      "|     stop|     town|    stop_latitude|   stop_longitude|            distance|\n",
      "+---------+---------+-----------------+-----------------+--------------------+\n",
      "|Ommeganck|Antwerpen|51.21794411371718|4.424490130633908|0.028057037861096215|\n",
      "+---------+---------+-----------------+-----------------+--------------------+\n",
      "\n"
     ]
    }
   ],
   "source": [
    "from pyspark.sql.functions import min\n",
    "\n",
    "min_distance = stops_distances_DF.select(min(\"distance\").alias(\"min_distance\")).head()[0]\n",
    "minDF = stops_distances_DF.filter(stops_distances_DF[\"distance\"] == min_distance)\n",
    "minDF.show()"
   ]
  }
 ],
 "metadata": {
  "kernelspec": {
   "display_name": "Python 3",
   "language": "python",
   "name": "python3"
  },
  "language_info": {
   "codemirror_mode": {
    "name": "ipython",
    "version": 3
   },
   "file_extension": ".py",
   "mimetype": "text/x-python",
   "name": "python",
   "nbconvert_exporter": "python",
   "pygments_lexer": "ipython3",
   "version": "3.6.9"
  }
 },
 "nbformat": 4,
 "nbformat_minor": 2
}
