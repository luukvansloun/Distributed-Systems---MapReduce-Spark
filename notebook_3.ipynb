{
 "cells": [
  {
   "cell_type": "markdown",
   "metadata": {},
   "source": [
    "## Assignment 3:\n",
    "Number of Stops per Town per Citizen, calculated using the town data given in the *flemish_districs.txt*, the citizen data in the *citizens2.txt* and the De Lijn data of all stops in Belgium in the *stops.txt*."
   ]
  },
  {
   "cell_type": "markdown",
   "metadata": {},
   "source": [
    "#### Setup SparkContext and SQLContext\n",
    "The SparkContext is required to setup other aspects of this project. SQLContext allows us to read the *stops.txt* directly into a JSON dataframe, resulting in easy readability and better access to the read data."
   ]
  },
  {
   "cell_type": "code",
   "execution_count": 1,
   "metadata": {},
   "outputs": [],
   "source": [
    "from pyspark import SparkContext\n",
    "from pyspark.sql import SQLContext\n",
    "spark = SparkSession.builder.appName(\"Ex3\").getOrCreate()\n",
    "sc = spark.sparkContext\n",
    "sqlContext = SQLContext(sc)"
   ]
  },
  {
   "cell_type": "markdown",
   "metadata": {},
   "source": [
    "#### Stops per Town Setup\n",
    "Since this notebook is an elaboration of notebook_2, we will reuse all its code in order to get the total number of stops per town, as defined in the previous notebook."
   ]
  },
  {
   "cell_type": "code",
   "execution_count": 2,
   "metadata": {},
   "outputs": [],
   "source": [
    "from pyspark.sql.functions import explode_outer\n",
    "\n",
    "stopsDF = sqlContext.read.json('data/stops.txt')\n",
    "districts = stopsDF.select(explode_outer(\"haltes.omschrijvingGemeente\").alias(\"district\"))\n",
    "towns_districts = sc.textFile('data/flemish_districs.txt')\n",
    "towns_districts_DF = towns_districts.map(lambda x: [x.split(\":\")[0].strip().replace('‐', '-'), [p.strip().replace('‐', '-') for p in x.split(\":\")[-1].split(\",\")]]).toDF([\"town\", \"district\"])\n",
    "towns_distr_sep = towns_districts_DF.select(\"town\", explode_outer(\"district\").alias(\"district\"))\n",
    "town_districts_joined = districts.join(towns_distr_sep, on=[\"district\"])\n",
    "stops_per_town = town_districts_joined.groupBy(\"town\").count().orderBy(\"town\")"
   ]
  },
  {
   "cell_type": "code",
   "execution_count": 3,
   "metadata": {},
   "outputs": [
    {
     "name": "stdout",
     "output_type": "stream",
     "text": [
      "+-------------+-----+\n",
      "|         town|count|\n",
      "+-------------+-----+\n",
      "|        Aalst|  554|\n",
      "|       Aalter|  107|\n",
      "|     Aarschot|  210|\n",
      "|   Aartselaar|   53|\n",
      "|     Affligem|   68|\n",
      "|        Alken|  118|\n",
      "|   Alveringem|   78|\n",
      "|    Antwerpen| 1295|\n",
      "|      Anzegem|   92|\n",
      "|      Ardooie|   61|\n",
      "|     Arendonk|   60|\n",
      "|           As|   34|\n",
      "|         Asse|  145|\n",
      "|     Assenede|  109|\n",
      "|      Avelgem|   48|\n",
      "|Baarle-Hertog|   12|\n",
      "|        Balen|  155|\n",
      "|      Beernem|   93|\n",
      "|       Beerse|   62|\n",
      "|      Beersel|  121|\n",
      "+-------------+-----+\n",
      "only showing top 20 rows\n",
      "\n"
     ]
    }
   ],
   "source": [
    "stops_per_town.show()"
   ]
  },
  {
   "cell_type": "markdown",
   "metadata": {},
   "source": [
    "#### Citizens Setup\n",
    "The *citizens2.txt* file contains all towns in Belgium with their citizen count. All of Belgium is included in this file, but only Flanders is required, since De Lijn only operates in Flanders. This is however no issue, since the join that will be executed later on will only incorporate the towns found earlier. Since the data does not follow a certain format, some preprocessing is required. The following function will extract all possible names for a town, since both Dutch and French names are possible."
   ]
  },
  {
   "cell_type": "code",
   "execution_count": 4,
   "metadata": {},
   "outputs": [],
   "source": [
    "def extractNames(data):\n",
    "    result = []\n",
    "    # Only 1 name\n",
    "    if len(data) == 1:\n",
    "        # Strip possible trailing whitespaces\n",
    "        name = data[0].strip()\n",
    "        result.append(name)\n",
    "    \n",
    "    # Both Dutch & French name\n",
    "    elif len(data) > 1:\n",
    "        for name in data:\n",
    "            # Strip possible trailing whitespaces\n",
    "            name = name.strip()\n",
    "            # Check whether name is a separation character\n",
    "            if len(name) == 1:\n",
    "                continue\n",
    "            else:\n",
    "                # Check whether name is encapsulated by parentheses\n",
    "                if name[0] == \"(\":\n",
    "                    name = name[1:-1]\n",
    "            \n",
    "            result.append(name)\n",
    "            \n",
    "    return result\n",
    "        "
   ]
  },
  {
   "cell_type": "code",
   "execution_count": 5,
   "metadata": {},
   "outputs": [],
   "source": [
    "citizensDF = sc.textFile('data/citizens2.txt')\n",
    "citizens = citizensDF.map(lambda x: [[name for name in extractNames(x.split(\" \")[:-1])], int(x.rpartition(\" \")[-1].replace('.', ''))]).toDF([\"towns\", \"citizen_count\"])"
   ]
  },
  {
   "cell_type": "code",
   "execution_count": 6,
   "metadata": {},
   "outputs": [
    {
     "name": "stdout",
     "output_type": "stream",
     "text": [
      "+--------------------+-------------+\n",
      "|               towns|citizen_count|\n",
      "+--------------------+-------------+\n",
      "|        [Anderlecht]|       117724|\n",
      "|[Brussel, Bruxelles]|       177112|\n",
      "|   [Elsene, Ixelles]|        86336|\n",
      "|         [Etterbeek]|        47410|\n",
      "|             [Evere]|        41016|\n",
      "|         [Ganshoren]|        24794|\n",
      "|             [Jette]|        52144|\n",
      "|        [Koekelberg]|        21765|\n",
      "|[Oudergem, Auderg...|        33725|\n",
      "|[Schaarbeek, Scha...|       132097|\n",
      "|[Sint‐Agatha‐Berc...|        24831|\n",
      "|[Sint‐Gillis, Sai...|        49361|\n",
      "|[Sint‐Jans‐Molenb...|        95455|\n",
      "|[Sint‐Joost‐ten‐N...|        26813|\n",
      "|[Sint‐Lambrechts‐...|        56212|\n",
      "|[Sint‐Pieters‐Wol...|        41513|\n",
      "|      [Ukkel, Uccle]|        82038|\n",
      "|     [Vorst, Forest]|        55694|\n",
      "|[Watermaal‐Bosvoo...|        25001|\n",
      "|        [Aartselaar]|        14298|\n",
      "+--------------------+-------------+\n",
      "only showing top 20 rows\n",
      "\n"
     ]
    }
   ],
   "source": [
    "citizens.show()"
   ]
  },
  {
   "cell_type": "markdown",
   "metadata": {},
   "source": [
    "Now the dataframe contains in every row a list and an integer. The list could be filled with 1 or 2 items, depending on the given options in the loaded data. To extract all possible town names, the *explode_outer* function is executed as mentioned in previous notebooks. "
   ]
  },
  {
   "cell_type": "code",
   "execution_count": 7,
   "metadata": {},
   "outputs": [],
   "source": [
    "extracted_citizens = citizens.select(\"citizen_count\", explode_outer(\"towns\").alias(\"town\"))"
   ]
  },
  {
   "cell_type": "code",
   "execution_count": 8,
   "metadata": {},
   "outputs": [
    {
     "name": "stdout",
     "output_type": "stream",
     "text": [
      "+-------------+--------------------+\n",
      "|citizen_count|                town|\n",
      "+-------------+--------------------+\n",
      "|       117724|          Anderlecht|\n",
      "|       177112|             Brussel|\n",
      "|       177112|           Bruxelles|\n",
      "|        86336|              Elsene|\n",
      "|        86336|             Ixelles|\n",
      "|        47410|           Etterbeek|\n",
      "|        41016|               Evere|\n",
      "|        24794|           Ganshoren|\n",
      "|        52144|               Jette|\n",
      "|        21765|          Koekelberg|\n",
      "|        33725|            Oudergem|\n",
      "|        33725|           Auderghem|\n",
      "|       132097|          Schaarbeek|\n",
      "|       132097|          Schaerbeek|\n",
      "|        24831| Sint‐Agatha‐Berchem|\n",
      "|        24831|Berchem‐Sainte‐Ag...|\n",
      "|        49361|         Sint‐Gillis|\n",
      "|        49361|        Saint‐Gilles|\n",
      "|        95455| Sint‐Jans‐Molenbeek|\n",
      "|        95455|Molenbeek‐Saint‐Jean|\n",
      "+-------------+--------------------+\n",
      "only showing top 20 rows\n",
      "\n"
     ]
    }
   ],
   "source": [
    "extracted_citizens.show()"
   ]
  },
  {
   "cell_type": "markdown",
   "metadata": {},
   "source": [
    "#### Join *Stops per Town* and Citizens\n",
    "The next step in finding the amount of stops per town per citizen is joining in the previously created dataframes on their towns. This will add a column with the citizen count corresponding to the town in each row."
   ]
  },
  {
   "cell_type": "code",
   "execution_count": 9,
   "metadata": {},
   "outputs": [],
   "source": [
    "joined_dfs = stops_per_town.join(extracted_citizens, on=[\"town\"])"
   ]
  },
  {
   "cell_type": "code",
   "execution_count": 10,
   "metadata": {},
   "outputs": [
    {
     "name": "stdout",
     "output_type": "stream",
     "text": [
      "+------------+-----+-------------+\n",
      "|        town|count|citizen_count|\n",
      "+------------+-----+-------------+\n",
      "|       Aalst|  554|        85615|\n",
      "|      Aalter|  107|        20544|\n",
      "|    Aarschot|  210|        29956|\n",
      "|  Aartselaar|   53|        14298|\n",
      "|    Affligem|   68|        13221|\n",
      "|       Alken|  118|        11564|\n",
      "|  Alveringem|   78|         5087|\n",
      "|   Antwerpen| 1295|       521680|\n",
      "|     Anzegem|   92|        14599|\n",
      "|     Ardooie|   61|         8988|\n",
      "|    Arendonk|   60|        13274|\n",
      "|          As|   34|         8190|\n",
      "|        Asse|  145|        32940|\n",
      "|    Assenede|  109|        14204|\n",
      "|     Avelgem|   48|        10063|\n",
      "|       Balen|  155|        22425|\n",
      "|     Beernem|   93|        15683|\n",
      "|      Beerse|   62|        17928|\n",
      "|     Beersel|  121|        25035|\n",
      "|Begijnendijk|   92|        10053|\n",
      "+------------+-----+-------------+\n",
      "only showing top 20 rows\n",
      "\n"
     ]
    }
   ],
   "source": [
    "joined_dfs.orderBy(\"town\").show()"
   ]
  },
  {
   "cell_type": "markdown",
   "metadata": {},
   "source": [
    "#### Calculating the ratio\n",
    "To calculate the ratio, the stops count has to be divided by the citizen count for each town. The results can than be added to the dataframe to finish the analysis. "
   ]
  },
  {
   "cell_type": "code",
   "execution_count": 11,
   "metadata": {},
   "outputs": [],
   "source": [
    "stops_per_town_per_citizen = joined_dfs.withColumn(\"citizen_ratio\", joined_dfs[\"count\"] / joined_dfs[\"citizen_count\"])"
   ]
  },
  {
   "cell_type": "code",
   "execution_count": 12,
   "metadata": {},
   "outputs": [
    {
     "name": "stdout",
     "output_type": "stream",
     "text": [
      "+------------+-----+-------------+--------------------+\n",
      "|        town|count|citizen_count|       citizen_ratio|\n",
      "+------------+-----+-------------+--------------------+\n",
      "|       Aalst|  554|        85615|0.006470828709922326|\n",
      "|      Aalter|  107|        20544|0.005208333333333333|\n",
      "|    Aarschot|  210|        29956|0.007010281746561...|\n",
      "|  Aartselaar|   53|        14298|0.003706812141558...|\n",
      "|    Affligem|   68|        13221|0.005143332576960895|\n",
      "|       Alken|  118|        11564| 0.01020408163265306|\n",
      "|  Alveringem|   78|         5087|0.015333202280322391|\n",
      "|   Antwerpen| 1295|       521680|0.002482364667995706|\n",
      "|     Anzegem|   92|        14599|0.006301801493252963|\n",
      "|     Ardooie|   61|         8988|0.006786826880284824|\n",
      "|    Arendonk|   60|        13274|0.004520114509567576|\n",
      "|          As|   34|         8190|0.004151404151404151|\n",
      "|        Asse|  145|        32940|0.004401942926533...|\n",
      "|    Assenede|  109|        14204|0.007673894677555618|\n",
      "|     Avelgem|   48|        10063|0.004769949319288483|\n",
      "|       Balen|  155|        22425|0.006911928651059...|\n",
      "|     Beernem|   93|        15683|0.005929987884970987|\n",
      "|      Beerse|   62|        17928|0.003458277554663...|\n",
      "|     Beersel|  121|        25035|0.004833233473137607|\n",
      "|Begijnendijk|   92|        10053|0.009151497065552572|\n",
      "+------------+-----+-------------+--------------------+\n",
      "only showing top 20 rows\n",
      "\n"
     ]
    }
   ],
   "source": [
    "stops_per_town_per_citizen.orderBy(\"town\").show()"
   ]
  }
 ],
 "metadata": {
  "kernelspec": {
   "display_name": "Python 3",
   "language": "python",
   "name": "python3"
  },
  "language_info": {
   "codemirror_mode": {
    "name": "ipython",
    "version": 3
   },
   "file_extension": ".py",
   "mimetype": "text/x-python",
   "name": "python",
   "nbconvert_exporter": "python",
   "pygments_lexer": "ipython3",
   "version": "3.6.9"
  }
 },
 "nbformat": 4,
 "nbformat_minor": 2
}
