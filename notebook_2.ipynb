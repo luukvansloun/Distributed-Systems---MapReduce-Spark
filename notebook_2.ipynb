{
 "cells": [
  {
   "cell_type": "markdown",
   "metadata": {},
   "source": [
    "## Assignment 2:\n",
    "Number of Stops per Town, calculated using the town data given in the *flemish_districs.txt* and the De Lijn data of all stops in Belgium in the *stops.txt*."
   ]
  },
  {
   "cell_type": "markdown",
   "metadata": {},
   "source": [
    "#### Setup SparkContext and SQLContext\n",
    "The SparkContext is required to setup other aspects of this project. SQLContext allows us to read the *stops.txt* directly into a JSON dataframe, resulting in easy readability and better access to the read data."
   ]
  },
  {
   "cell_type": "code",
   "execution_count": 1,
   "metadata": {},
   "outputs": [],
   "source": [
    "from pyspark import SparkContext\n",
    "from pyspark.sql import SQLContext\n",
    "spark = SparkSession.builder.appName(\"Ex2\").getOrCreate()\n",
    "sc = spark.sparkContext\n",
    "sqlContext = SQLContext(sc)"
   ]
  },
  {
   "cell_type": "markdown",
   "metadata": {},
   "source": [
    "#### Setup Districts RDD\n",
    "The following dataframe is setup using the *stops.txt*, containing the De Lijn data. This data will be used to extract the districtnames which are needed to calculate the amount of stops per town later on."
   ]
  },
  {
   "cell_type": "code",
   "execution_count": 2,
   "metadata": {},
   "outputs": [],
   "source": [
    "from pyspark.sql.functions import explode_outer\n",
    "\n",
    "stopsDF = sqlContext.read.json('data/stops.txt')"
   ]
  },
  {
   "cell_type": "markdown",
   "metadata": {},
   "source": [
    "By using the *explode_outer* function as described in the previous notebook, we can extract the different districts from the De Lijn data."
   ]
  },
  {
   "cell_type": "code",
   "execution_count": 3,
   "metadata": {},
   "outputs": [
    {
     "name": "stdout",
     "output_type": "stream",
     "text": [
      "+---------+\n",
      "| district|\n",
      "+---------+\n",
      "|  Wilrijk|\n",
      "|Antwerpen|\n",
      "|  Hoboken|\n",
      "|  Hoboken|\n",
      "|  Hoboken|\n",
      "|  Wilrijk|\n",
      "|  Wilrijk|\n",
      "|  Wilrijk|\n",
      "|  Wilrijk|\n",
      "|  Wilrijk|\n",
      "|Antwerpen|\n",
      "|Antwerpen|\n",
      "|  Wilrijk|\n",
      "|  Wilrijk|\n",
      "|  Wilrijk|\n",
      "|  Wilrijk|\n",
      "|  Wilrijk|\n",
      "|  Wilrijk|\n",
      "|  Wilrijk|\n",
      "|  Wilrijk|\n",
      "+---------+\n",
      "only showing top 20 rows\n",
      "\n"
     ]
    }
   ],
   "source": [
    "districts = stopsDF.select(explode_outer(\"haltes.omschrijvingGemeente\").alias(\"district\"))\n",
    "districts.show()"
   ]
  },
  {
   "cell_type": "markdown",
   "metadata": {},
   "source": [
    "#### Setup Towns&Districts RDD\n",
    "The following dataframe is setup using the *flemish_districs.txt*, containing the De Lijn data. This data contains all towns with their corresponding districts. These districts can be used to calculate the total amount of stops in the town by using the previously created dataframe. The data in this file is built up using the following format:\n",
    "> town_name : \\[ all districts belonging to town_name \\]\n"
   ]
  },
  {
   "cell_type": "code",
   "execution_count": 4,
   "metadata": {},
   "outputs": [],
   "source": [
    "towns_districts = sc.textFile('data/flemish_districs.txt')"
   ]
  },
  {
   "cell_type": "markdown",
   "metadata": {},
   "source": [
    "To collect the necessary data, the data is mapped by first separating the towns from their lists of districts."
   ]
  },
  {
   "cell_type": "code",
   "execution_count": 5,
   "metadata": {},
   "outputs": [
    {
     "name": "stdout",
     "output_type": "stream",
     "text": [
      "+-------------+--------------------+\n",
      "|         town|            district|\n",
      "+-------------+--------------------+\n",
      "|        Aalst|[Aalst, Gijzegem,...|\n",
      "|       Aalter|[Aalter, Bellem, ...|\n",
      "|     Aarschot|[Aarschot, Gelrod...|\n",
      "|   Aartselaar|        [Aartselaar]|\n",
      "|     Affligem|[Essene, Hekelgem...|\n",
      "|        Alken|             [Alken]|\n",
      "|   Alveringem|[Alveringem, Hoog...|\n",
      "|    Antwerpen|[Antwerpen, Beren...|\n",
      "|      Anzegem|[Anzegem, Gijzelb...|\n",
      "|      Ardooie|[Ardooie, Koolskamp]|\n",
      "|     Arendonk|          [Arendonk]|\n",
      "|           As|   [As, Niel-bij-As]|\n",
      "|         Asse|[Asse, Bekkerzeel...|\n",
      "|     Assenede|[Assenede, Boekho...|\n",
      "|      Avelgem|[Avelgem, Kerkhov...|\n",
      "|Baarle-Hertog|     [Baarle-Hertog]|\n",
      "|        Balen|      [Balen, Olmen]|\n",
      "|      Beernem|[Beernem, Oedelem...|\n",
      "|       Beerse| [Beerse, Vlimmeren]|\n",
      "|      Beersel|[Beersel, Lot, Al...|\n",
      "+-------------+--------------------+\n",
      "only showing top 20 rows\n",
      "\n"
     ]
    }
   ],
   "source": [
    "towns_districts_DF = towns_districts.map(lambda x: [x.split(\":\")[0].strip().replace('‐', '-'), [p.strip().replace('‐', '-') for p in x.split(\":\")[-1].split(\",\")]]).toDF([\"town\", \"district\"])\n",
    "towns_districts_DF.show()"
   ]
  },
  {
   "cell_type": "markdown",
   "metadata": {},
   "source": [
    "Using the *explode_outer* function we can now create a row for every district in every list, combined with their corresponding town."
   ]
  },
  {
   "cell_type": "code",
   "execution_count": 6,
   "metadata": {},
   "outputs": [
    {
     "name": "stdout",
     "output_type": "stream",
     "text": [
      "+----------+-------------+\n",
      "|      town|     district|\n",
      "+----------+-------------+\n",
      "|     Aalst|        Aalst|\n",
      "|     Aalst|     Gijzegem|\n",
      "|     Aalst|     Hofstade|\n",
      "|     Aalst|    Baardegem|\n",
      "|     Aalst|    Herdersem|\n",
      "|     Aalst|      Meldert|\n",
      "|     Aalst|      Moorsel|\n",
      "|     Aalst|  Erembodegem|\n",
      "|     Aalst|Nieuwerkerken|\n",
      "|    Aalter|       Aalter|\n",
      "|    Aalter|       Bellem|\n",
      "|    Aalter|   Lotenhulle|\n",
      "|    Aalter|        Poeke|\n",
      "|  Aarschot|     Aarschot|\n",
      "|  Aarschot|      Gelrode|\n",
      "|  Aarschot|     Langdorp|\n",
      "|  Aarschot|      Rillaar|\n",
      "|Aartselaar|   Aartselaar|\n",
      "|  Affligem|       Essene|\n",
      "|  Affligem|     Hekelgem|\n",
      "+----------+-------------+\n",
      "only showing top 20 rows\n",
      "\n"
     ]
    }
   ],
   "source": [
    "towns_distr_sep = towns_districts_DF.select(\"town\", explode_outer(\"district\").alias(\"district\"))\n",
    "towns_distr_sep.show()"
   ]
  },
  {
   "cell_type": "markdown",
   "metadata": {},
   "source": [
    "Both dataframes, *districts* and *towns & districts*,  are now ready to be joined on key **town**. This will result in the column *town* being filled with the name of a town for as many rows as there are stops in that town."
   ]
  },
  {
   "cell_type": "code",
   "execution_count": 7,
   "metadata": {},
   "outputs": [
    {
     "name": "stdout",
     "output_type": "stream",
     "text": [
      "+--------+-----+\n",
      "|district| town|\n",
      "+--------+-----+\n",
      "|   Aalst|Aalst|\n",
      "|   Aalst|Aalst|\n",
      "|   Aalst|Aalst|\n",
      "|   Aalst|Aalst|\n",
      "|   Aalst|Aalst|\n",
      "|   Aalst|Aalst|\n",
      "|   Aalst|Aalst|\n",
      "|   Aalst|Aalst|\n",
      "|   Aalst|Aalst|\n",
      "|   Aalst|Aalst|\n",
      "|   Aalst|Aalst|\n",
      "|   Aalst|Aalst|\n",
      "|   Aalst|Aalst|\n",
      "|   Aalst|Aalst|\n",
      "|   Aalst|Aalst|\n",
      "|   Aalst|Aalst|\n",
      "|   Aalst|Aalst|\n",
      "|   Aalst|Aalst|\n",
      "|   Aalst|Aalst|\n",
      "|   Aalst|Aalst|\n",
      "+--------+-----+\n",
      "only showing top 20 rows\n",
      "\n"
     ]
    }
   ],
   "source": [
    "town_districts_joined = districts.join(towns_distr_sep, on=[\"district\"])\n",
    "town_districts_joined.show()"
   ]
  },
  {
   "cell_type": "markdown",
   "metadata": {},
   "source": [
    "Finally, we can group by town and count the number of instances, which results in the total number of stops in a town. This number is a summation of all the number of stops of all the districts belonging to that town."
   ]
  },
  {
   "cell_type": "code",
   "execution_count": 8,
   "metadata": {},
   "outputs": [],
   "source": [
    "stops_per_town = town_districts_joined.groupBy(\"town\").count().orderBy(\"town\")"
   ]
  },
  {
   "cell_type": "code",
   "execution_count": 9,
   "metadata": {},
   "outputs": [
    {
     "name": "stdout",
     "output_type": "stream",
     "text": [
      "+-------------+-----+\n",
      "|         town|count|\n",
      "+-------------+-----+\n",
      "|        Aalst|  554|\n",
      "|       Aalter|  107|\n",
      "|     Aarschot|  210|\n",
      "|   Aartselaar|   53|\n",
      "|     Affligem|   68|\n",
      "|        Alken|  118|\n",
      "|   Alveringem|   78|\n",
      "|    Antwerpen| 1295|\n",
      "|      Anzegem|   92|\n",
      "|      Ardooie|   61|\n",
      "|     Arendonk|   60|\n",
      "|           As|   34|\n",
      "|         Asse|  145|\n",
      "|     Assenede|  109|\n",
      "|      Avelgem|   48|\n",
      "|Baarle-Hertog|   12|\n",
      "|        Balen|  155|\n",
      "|      Beernem|   93|\n",
      "|       Beerse|   62|\n",
      "|      Beersel|  121|\n",
      "+-------------+-----+\n",
      "only showing top 20 rows\n",
      "\n"
     ]
    }
   ],
   "source": [
    "stops_per_town.show()"
   ]
  }
 ],
 "metadata": {
  "kernelspec": {
   "display_name": "Python 3",
   "language": "python",
   "name": "python3"
  },
  "language_info": {
   "codemirror_mode": {
    "name": "ipython",
    "version": 3
   },
   "file_extension": ".py",
   "mimetype": "text/x-python",
   "name": "python",
   "nbconvert_exporter": "python",
   "pygments_lexer": "ipython3",
   "version": "3.6.9"
  }
 },
 "nbformat": 4,
 "nbformat_minor": 2
}
