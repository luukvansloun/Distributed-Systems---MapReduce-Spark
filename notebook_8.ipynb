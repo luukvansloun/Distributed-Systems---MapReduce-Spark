{
 "cells": [
  {
   "cell_type": "markdown",
   "metadata": {},
   "source": [
    "## Assignment 8:\n",
    "Overview of the Towns where **X**% of the Stops is within a **R** radius of the location (lat,\n",
    "long) of the Town, calculated using the De Lijn data of all stops in Belgium in the *stops.txt*, the district locations in *zipcodes.csv*. No citizen counts are required in this assignment. Therefore the term *town* can be interpreted as the districts used in both *zipcodes.csv* and the De Lijn Data in the *stops.txt*."
   ]
  },
  {
   "cell_type": "markdown",
   "metadata": {},
   "source": [
    "#### Input Variables\n",
    "Please set the desired position in *INPUT_POSITION* using the (latitude, longitude) notation. The desired radius in kilometers can be entered into *INPUT_RADIUS*. The percentage can be set into *INPUT_PERCENTAGE* using a value between 0 and 1 to indicate the percentage."
   ]
  },
  {
   "cell_type": "code",
   "execution_count": 207,
   "metadata": {},
   "outputs": [],
   "source": [
    "INPUT_RADIUS = 2\n",
    "INPUT_PERCENTAGE = 0.80"
   ]
  },
  {
   "cell_type": "markdown",
   "metadata": {},
   "source": [
    "#### Setup SparkContext\n",
    "The SparkContext is required to setup other aspects of this project. SQLContext allows us to read the *stops.txt* directly into a JSON dataframe, resulting in easy readability and better access to the read data."
   ]
  },
  {
   "cell_type": "code",
   "execution_count": 208,
   "metadata": {},
   "outputs": [],
   "source": [
    "from pyspark import SparkContext\n",
    "from pyspark.sql import SQLContext\n",
    "spark = SparkSession.builder.appName(\"Ex5\").getOrCreate()\n",
    "sc = spark.sparkContext\n",
    "sqlContext = SQLContext(sc)"
   ]
  },
  {
   "cell_type": "markdown",
   "metadata": {},
   "source": [
    "#### Setup Stops\n",
    "As with the previous notebooks, we can read the De Lijn data from the *stops.txt*. The following function is designed to read and parse the JSON code in the *stops.txt*."
   ]
  },
  {
   "cell_type": "code",
   "execution_count": 209,
   "metadata": {},
   "outputs": [],
   "source": [
    "def parseJSON(f):\n",
    "    import json\n",
    "    f = open(f)\n",
    "    data = json.load(f)\n",
    "    f.close()\n",
    "    return data"
   ]
  },
  {
   "cell_type": "markdown",
   "metadata": {},
   "source": [
    "Using the function above we can load the JSON data and create a dataframe. This dataframe will contain geocoordinates for each stop. These coordinates will be used to calculate the distance to the town in which it's located."
   ]
  },
  {
   "cell_type": "code",
   "execution_count": 210,
   "metadata": {},
   "outputs": [],
   "source": [
    "stops = parseJSON(\"data/stops.txt\")\n",
    "columns = [\"town\", \"stop_latitude\", \"stop_longitude\"]\n",
    "rows = []\n",
    "for stop in stops[\"haltes\"]:\n",
    "    try:\n",
    "        row = (stop[\"omschrijvingGemeente\"], stop[\"geoCoordinaat\"][\"latitude\"], stop[\"geoCoordinaat\"][\"longitude\"])\n",
    "    except:\n",
    "        continue\n",
    "    rows.append(row)\n",
    "    \n",
    "stopsDF = spark.createDataFrame(rows, columns)"
   ]
  },
  {
   "cell_type": "code",
   "execution_count": 211,
   "metadata": {},
   "outputs": [
    {
     "name": "stdout",
     "output_type": "stream",
     "text": [
      "+---------+------------------+------------------+\n",
      "|     town|     stop_latitude|    stop_longitude|\n",
      "+---------+------------------+------------------+\n",
      "|  Wilrijk| 51.16388937021345| 4.392073389160737|\n",
      "|Antwerpen| 51.20624969023759|  4.42550621473228|\n",
      "|  Hoboken| 51.16606659417422| 4.357705800030343|\n",
      "|  Hoboken|51.166021637406374| 4.357548549004122|\n",
      "|  Hoboken|51.174054839412754| 4.341260275816016|\n",
      "|  Wilrijk| 51.16300843934687| 4.392315960084608|\n",
      "|  Wilrijk|51.159774888706686|  4.36212420848111|\n",
      "|  Wilrijk| 51.15996363300075| 4.361809703307476|\n",
      "|  Wilrijk| 51.16295566692438| 4.385797177482637|\n",
      "|  Wilrijk|51.163459288346274|  4.38396752309872|\n",
      "|Antwerpen|51.188743165936835| 4.389583082467416|\n",
      "|Antwerpen| 51.18297254153696| 4.418927404052235|\n",
      "|  Wilrijk| 51.16220188106436| 4.372316437753825|\n",
      "|  Wilrijk| 51.16195022546374| 4.371558768815994|\n",
      "|  Wilrijk| 51.17942171543447| 4.391480757849793|\n",
      "|  Wilrijk| 51.17950258375939| 4.391623804277545|\n",
      "|  Wilrijk|  51.1750618209695| 4.393666351257672|\n",
      "|  Wilrijk| 51.17543040984701| 4.393394866080753|\n",
      "|  Wilrijk|51.176906438662385|4.3818843374408045|\n",
      "|  Wilrijk|  51.1766817117476|4.3819986686294135|\n",
      "+---------+------------------+------------------+\n",
      "only showing top 20 rows\n",
      "\n"
     ]
    }
   ],
   "source": [
    "stopsDF.show()"
   ]
  },
  {
   "cell_type": "markdown",
   "metadata": {},
   "source": [
    "#### Setup Towns\n",
    "The *zipcodes.csv* file contains all towns in Belgium with their geocoordinates. These can be used to calculate the distance of each stop. Using the earlier setup *SQLContext* we can extract the data."
   ]
  },
  {
   "cell_type": "code",
   "execution_count": 212,
   "metadata": {},
   "outputs": [],
   "source": [
    "townsDF = sqlContext.read.csv(\"data/zipcodes.csv\", sep=\";\").selectExpr(\"_c1 as town\", \"_c2 as town_latitude\", \"_c3 as town_longitude\")"
   ]
  },
  {
   "cell_type": "code",
   "execution_count": 213,
   "metadata": {},
   "outputs": [
    {
     "name": "stdout",
     "output_type": "stream",
     "text": [
      "+--------------------+-----------------+-----------------+\n",
      "|                town|    town_latitude|   town_longitude|\n",
      "+--------------------+-----------------+-----------------+\n",
      "|             Brussel|       50.8427501|4.351549900000009|\n",
      "|           Bruxelles|       50.8427501|4.351549900000009|\n",
      "|Ass. R�un. Com. C...|             null|             null|\n",
      "|Brusselse Hoofdst...|50.84487679999999|4.351433499999985|\n",
      "|Conseil Region Br...|        50.847857|4.367408000000069|\n",
      "|Ver. Verg. Gemeen...|             null|             null|\n",
      "|Raad Vlaamse Geme...|             null|             null|\n",
      "|Ass. Commiss. Com...|             null|             null|\n",
      "|Chambre des Repr�...|50.84655679999999|4.364662199999998|\n",
      "|Kamer van Volksve...|50.84655679999999|4.364662199999998|\n",
      "|    Belgische Senaat|             null|             null|\n",
      "|   Senat de Belgique|         50.79834|4.395649999999932|\n",
      "|Cit� Administrati...|             null|             null|\n",
      "|Rijksadministrati...|       50.8243276|4.513954300000023|\n",
      "|Vlaamse Raad - Vl...|             null|             null|\n",
      "|Parlement de la C...|       50.8466387|4.361992399999963|\n",
      "|     Brussel (Laken)|        50.884218|4.358000199999992|\n",
      "|  Bruxelles (Laeken)|        50.884218|4.358000199999992|\n",
      "|  Laeken (Bruxelles)|        50.884218|4.358000199999992|\n",
      "|     Laken (Brussel)|        50.884218|4.358000199999992|\n",
      "+--------------------+-----------------+-----------------+\n",
      "only showing top 20 rows\n",
      "\n"
     ]
    }
   ],
   "source": [
    "townsDF.show()"
   ]
  },
  {
   "cell_type": "markdown",
   "metadata": {},
   "source": [
    "Since multiple town names can be seen within the *town* column above, single names need to be extracted before the join can be executed."
   ]
  },
  {
   "cell_type": "code",
   "execution_count": 214,
   "metadata": {},
   "outputs": [],
   "source": [
    "from pyspark.sql.types import *\n",
    "from pyspark.sql.functions import udf\n",
    "\n",
    "cleanName = udf(lambda x: x.split(\" \")[0], StringType())\n",
    "\n",
    "towns = townsDF.withColumn(\"town\", cleanName(townsDF[\"town\"]))"
   ]
  },
  {
   "cell_type": "code",
   "execution_count": 215,
   "metadata": {},
   "outputs": [
    {
     "name": "stdout",
     "output_type": "stream",
     "text": [
      "+-------------------+-----------------+-----------------+\n",
      "|               town|    town_latitude|   town_longitude|\n",
      "+-------------------+-----------------+-----------------+\n",
      "|            Brussel|       50.8427501|4.351549900000009|\n",
      "|          Bruxelles|       50.8427501|4.351549900000009|\n",
      "|               Ass.|             null|             null|\n",
      "|          Brusselse|50.84487679999999|4.351433499999985|\n",
      "|            Conseil|        50.847857|4.367408000000069|\n",
      "|               Ver.|             null|             null|\n",
      "|               Raad|             null|             null|\n",
      "|               Ass.|             null|             null|\n",
      "|            Chambre|50.84655679999999|4.364662199999998|\n",
      "|              Kamer|50.84655679999999|4.364662199999998|\n",
      "|          Belgische|             null|             null|\n",
      "|              Senat|         50.79834|4.395649999999932|\n",
      "|               Cit�|             null|             null|\n",
      "|Rijksadministratief|       50.8243276|4.513954300000023|\n",
      "|            Vlaamse|             null|             null|\n",
      "|          Parlement|       50.8466387|4.361992399999963|\n",
      "|            Brussel|        50.884218|4.358000199999992|\n",
      "|          Bruxelles|        50.884218|4.358000199999992|\n",
      "|             Laeken|        50.884218|4.358000199999992|\n",
      "|              Laken|        50.884218|4.358000199999992|\n",
      "+-------------------+-----------------+-----------------+\n",
      "only showing top 20 rows\n",
      "\n"
     ]
    }
   ],
   "source": [
    "towns.show()"
   ]
  },
  {
   "cell_type": "markdown",
   "metadata": {},
   "source": [
    "We can now join our stops and towns to create a table with for each stop its coordinates and the coordinates of the corresponding town."
   ]
  },
  {
   "cell_type": "code",
   "execution_count": 216,
   "metadata": {},
   "outputs": [],
   "source": [
    "joined_dfs = stopsDF.join(towns, on=[\"town\"])"
   ]
  },
  {
   "cell_type": "code",
   "execution_count": 217,
   "metadata": {},
   "outputs": [
    {
     "name": "stdout",
     "output_type": "stream",
     "text": [
      "+---------+------------------+-----------------+-----------------+------------------+\n",
      "|     town|     stop_latitude|   stop_longitude|    town_latitude|    town_longitude|\n",
      "+---------+------------------+-----------------+-----------------+------------------+\n",
      "|  Wilrijk| 51.16388937021345|4.392073389160737|       51.1683102| 4.394286800000032|\n",
      "|Antwerpen| 51.20624969023759| 4.42550621473228|       51.2293515| 4.427988300000038|\n",
      "|Antwerpen| 51.20624969023759| 4.42550621473228|       51.2287575| 4.374022100000047|\n",
      "|Antwerpen| 51.20624969023759| 4.42550621473228|51.34183059999999|4.2964604999999665|\n",
      "|Antwerpen| 51.20624969023759| 4.42550621473228|51.27639629999999| 4.362460400000032|\n",
      "|Antwerpen| 51.20624969023759| 4.42550621473228|       51.1890846|4.3836284000000205|\n",
      "|Antwerpen| 51.20624969023759| 4.42550621473228|       51.2037695| 4.411263700000063|\n",
      "|Antwerpen| 51.20624969023759| 4.42550621473228|       51.2198771| 4.401135599999975|\n",
      "|  Hoboken| 51.16606659417422|4.357705800030343|       51.1775732| 4.349919999999997|\n",
      "|  Hoboken|51.166021637406374|4.357548549004122|       51.1775732| 4.349919999999997|\n",
      "|  Hoboken|51.174054839412754|4.341260275816016|       51.1775732| 4.349919999999997|\n",
      "|  Wilrijk| 51.16300843934687|4.392315960084608|       51.1683102| 4.394286800000032|\n",
      "|  Wilrijk|51.159774888706686| 4.36212420848111|       51.1683102| 4.394286800000032|\n",
      "|  Wilrijk| 51.15996363300075|4.361809703307476|       51.1683102| 4.394286800000032|\n",
      "|  Wilrijk| 51.16295566692438|4.385797177482637|       51.1683102| 4.394286800000032|\n",
      "|  Wilrijk|51.163459288346274| 4.38396752309872|       51.1683102| 4.394286800000032|\n",
      "|Antwerpen|51.188743165936835|4.389583082467416|       51.2293515| 4.427988300000038|\n",
      "|Antwerpen|51.188743165936835|4.389583082467416|       51.2287575| 4.374022100000047|\n",
      "|Antwerpen|51.188743165936835|4.389583082467416|51.34183059999999|4.2964604999999665|\n",
      "|Antwerpen|51.188743165936835|4.389583082467416|51.27639629999999| 4.362460400000032|\n",
      "+---------+------------------+-----------------+-----------------+------------------+\n",
      "only showing top 20 rows\n",
      "\n"
     ]
    }
   ],
   "source": [
    "joined_dfs.show()"
   ]
  },
  {
   "cell_type": "markdown",
   "metadata": {},
   "source": [
    "#### Calculating the distance\n",
    "The following function is designed to calculate the distance between positions, both given in (lat, long) format. The calculation is based on the radius of the earth in kilometers. The function will evaluate whether the stops position lies within the given radius of the given position."
   ]
  },
  {
   "cell_type": "code",
   "execution_count": 218,
   "metadata": {},
   "outputs": [],
   "source": [
    "from pyspark.sql.types import *\n",
    "from pyspark.sql.functions import udf\n",
    "from math import sin, cos, sqrt, atan2, radians\n",
    "\n",
    "# Copyright: https://stackoverflow.com/questions/19412462/getting-distance-between-two-points-based-on-latitude-longitude\n",
    "def is_within_radius(stop_lat, stop_long, town_lat, town_long):\n",
    "    R = 6373.0\n",
    "\n",
    "    lat1 = radians(float(town_lat))\n",
    "    lon1 = radians(float(town_long))\n",
    "    lat2 = radians(float(stop_lat))\n",
    "    lon2 = radians(float(stop_long))\n",
    "\n",
    "    dlon = lon2 - lon1\n",
    "    dlat = lat2 - lat1\n",
    "\n",
    "    a = sin(dlat / 2)**2 + cos(lat1) * cos(lat2) * sin(dlon / 2)**2\n",
    "    c = 2 * atan2(sqrt(a), sqrt(1 - a))\n",
    "\n",
    "    distance = R * c\n",
    "\n",
    "    if distance <= INPUT_RADIUS:\n",
    "        return True\n",
    "    else:\n",
    "        return False\n",
    "    \n",
    "in_radius = udf(is_within_radius, BooleanType())\n",
    "\n",
    "stops_in_radius = joined_dfs.withColumn(\"in_radius\", in_radius(joined_dfs[\"stop_latitude\"], joined_dfs[\"stop_longitude\"], joined_dfs[\"town_latitude\"], joined_dfs[\"town_longitude\"]))"
   ]
  },
  {
   "cell_type": "code",
   "execution_count": 219,
   "metadata": {},
   "outputs": [
    {
     "name": "stdout",
     "output_type": "stream",
     "text": [
      "+---------+------------------+-----------------+-----------------+------------------+---------+\n",
      "|     town|     stop_latitude|   stop_longitude|    town_latitude|    town_longitude|in_radius|\n",
      "+---------+------------------+-----------------+-----------------+------------------+---------+\n",
      "|  Wilrijk| 51.16388937021345|4.392073389160737|       51.1683102| 4.394286800000032|     true|\n",
      "|Antwerpen| 51.20624969023759| 4.42550621473228|       51.2293515| 4.427988300000038|    false|\n",
      "|Antwerpen| 51.20624969023759| 4.42550621473228|       51.2287575| 4.374022100000047|    false|\n",
      "|Antwerpen| 51.20624969023759| 4.42550621473228|51.34183059999999|4.2964604999999665|    false|\n",
      "|Antwerpen| 51.20624969023759| 4.42550621473228|51.27639629999999| 4.362460400000032|    false|\n",
      "|Antwerpen| 51.20624969023759| 4.42550621473228|       51.1890846|4.3836284000000205|    false|\n",
      "|Antwerpen| 51.20624969023759| 4.42550621473228|       51.2037695| 4.411263700000063|     true|\n",
      "|Antwerpen| 51.20624969023759| 4.42550621473228|       51.2198771| 4.401135599999975|    false|\n",
      "|  Hoboken| 51.16606659417422|4.357705800030343|       51.1775732| 4.349919999999997|     true|\n",
      "|  Hoboken|51.166021637406374|4.357548549004122|       51.1775732| 4.349919999999997|     true|\n",
      "|  Hoboken|51.174054839412754|4.341260275816016|       51.1775732| 4.349919999999997|     true|\n",
      "|  Wilrijk| 51.16300843934687|4.392315960084608|       51.1683102| 4.394286800000032|     true|\n",
      "|  Wilrijk|51.159774888706686| 4.36212420848111|       51.1683102| 4.394286800000032|    false|\n",
      "|  Wilrijk| 51.15996363300075|4.361809703307476|       51.1683102| 4.394286800000032|    false|\n",
      "|  Wilrijk| 51.16295566692438|4.385797177482637|       51.1683102| 4.394286800000032|     true|\n",
      "|  Wilrijk|51.163459288346274| 4.38396752309872|       51.1683102| 4.394286800000032|     true|\n",
      "|Antwerpen|51.188743165936835|4.389583082467416|       51.2293515| 4.427988300000038|    false|\n",
      "|Antwerpen|51.188743165936835|4.389583082467416|       51.2287575| 4.374022100000047|    false|\n",
      "|Antwerpen|51.188743165936835|4.389583082467416|51.34183059999999|4.2964604999999665|    false|\n",
      "|Antwerpen|51.188743165936835|4.389583082467416|51.27639629999999| 4.362460400000032|    false|\n",
      "+---------+------------------+-----------------+-----------------+------------------+---------+\n",
      "only showing top 20 rows\n",
      "\n"
     ]
    }
   ],
   "source": [
    "stops_in_radius.show()"
   ]
  },
  {
   "cell_type": "markdown",
   "metadata": {},
   "source": [
    "#### Calculating the ratio\n",
    "The following section computes for each town the amount of stops that are located within the radius using two dictionaries. Simple counts are stored to later on compute the ratio. Once these are computed, they can be stored in a new dataframe containing all the towns and their stop counts within the given radius."
   ]
  },
  {
   "cell_type": "code",
   "execution_count": 220,
   "metadata": {},
   "outputs": [],
   "source": [
    "total_stops_dict = dict()\n",
    "stop_in_radius_dict = dict()\n",
    "\n",
    "for row in stops_in_radius.rdd.collect():\n",
    "    if row[0] not in total_stops_dict:\n",
    "        total_stops_dict[row[0]] = 1\n",
    "    else:\n",
    "        total_stops_dict[row[0]] += 1\n",
    "        \n",
    "    if row[5] == True:\n",
    "        if row[0] not in stop_in_radius_dict:\n",
    "            stop_in_radius_dict[row[0]] = 1\n",
    "        else:\n",
    "            stop_in_radius_dict[row[0]] += 1\n",
    "\n",
    "columns = [\"town\", \"stops_in_radius_ratio\"]\n",
    "rows = []\n",
    "\n",
    "for town in total_stops_dict:\n",
    "    if town in stop_in_radius_dict:\n",
    "        rows.append((town, (stop_in_radius_dict[town] / total_stops_dict[town])))\n",
    "\n",
    "towns_stops_in_radius = spark.createDataFrame(rows, columns)\n",
    "towns_stops_in_radius = towns_stops_in_radius.withColumn(\"stops_in_radius_ratio\", towns_stops_in_radius[\"stops_in_radius_ratio\"].cast(DoubleType()))"
   ]
  },
  {
   "cell_type": "code",
   "execution_count": 221,
   "metadata": {},
   "outputs": [
    {
     "name": "stdout",
     "output_type": "stream",
     "text": [
      "+-----------+---------------------+\n",
      "|       town|stops_in_radius_ratio|\n",
      "+-----------+---------------------+\n",
      "|    Wilrijk|   0.8432835820895522|\n",
      "|  Antwerpen|  0.21086186540731996|\n",
      "|    Hoboken|   0.9565217391304348|\n",
      "|     Deurne|              0.21875|\n",
      "| Borgerhout|                  1.0|\n",
      "|  Breendonk|                  1.0|\n",
      "|    Mortsel|   0.9464285714285714|\n",
      "|    Schelle|   0.9130434782608695|\n",
      "|    Berchem|   0.4368421052631579|\n",
      "|       Boom|                  1.0|\n",
      "|       Reet|   0.7837837837837838|\n",
      "|   Hemiksem|                  1.0|\n",
      "|       Niel|                  1.0|\n",
      "| Aartselaar|   0.8679245283018868|\n",
      "|    Hingene|                  0.9|\n",
      "|     Bornem|                 0.78|\n",
      "|      Weert|   0.7692307692307693|\n",
      "|     Edegem|   0.9655172413793104|\n",
      "| Mariekerke|                  1.0|\n",
      "|Sint-Amands|   0.9285714285714286|\n",
      "+-----------+---------------------+\n",
      "only showing top 20 rows\n",
      "\n"
     ]
    }
   ],
   "source": [
    "towns_stops_in_radius.show()"
   ]
  },
  {
   "cell_type": "markdown",
   "metadata": {},
   "source": [
    "As we're only interested in the towns for which at least **X**% lies within the given radius, we need to filter the ratios in the dataframe above. This results in a dataframe containing all towns for which **X**% of the stops are located within the given radius of the town's location."
   ]
  },
  {
   "cell_type": "code",
   "execution_count": 222,
   "metadata": {},
   "outputs": [],
   "source": [
    "towns_stops_in_radius_percentage = towns_stops_in_radius.filter(towns_stops_in_radius[\"stops_in_radius_ratio\"] > INPUT_PERCENTAGE)"
   ]
  },
  {
   "cell_type": "code",
   "execution_count": 223,
   "metadata": {},
   "outputs": [
    {
     "name": "stdout",
     "output_type": "stream",
     "text": [
      "+----------+---------------------+\n",
      "|      town|stops_in_radius_ratio|\n",
      "+----------+---------------------+\n",
      "|    Aaigem|   0.9583333333333334|\n",
      "|   Aalbeke|                  1.0|\n",
      "|   Aarsele|   0.9090909090909091|\n",
      "|Aartselaar|   0.8679245283018868|\n",
      "|     Achel|   0.8157894736842105|\n",
      "| Adinkerke|                  1.0|\n",
      "|    Afsnee|                  1.0|\n",
      "| Alsemberg|                  1.0|\n",
      "|    Appels|                  1.0|\n",
      "|  Aspelare|                  1.0|\n",
      "| Assebroek|               0.8375|\n",
      "|Attenhoven|                  1.0|\n",
      "| Attenrode|                  0.9|\n",
      "|Avekapelle|                0.875|\n",
      "|   Avelgem|                  1.0|\n",
      "|  Averbode|                  1.0|\n",
      "|   Baaigem|                  1.0|\n",
      "| Baardegem|                  1.0|\n",
      "|  Baasrode|   0.9444444444444444|\n",
      "|   Balegem|   0.8571428571428571|\n",
      "+----------+---------------------+\n",
      "only showing top 20 rows\n",
      "\n"
     ]
    }
   ],
   "source": [
    "towns_stops_in_radius_percentage.orderBy(\"town\").show()"
   ]
  }
 ],
 "metadata": {
  "kernelspec": {
   "display_name": "Python 3",
   "language": "python",
   "name": "python3"
  },
  "language_info": {
   "codemirror_mode": {
    "name": "ipython",
    "version": 3
   },
   "file_extension": ".py",
   "mimetype": "text/x-python",
   "name": "python",
   "nbconvert_exporter": "python",
   "pygments_lexer": "ipython3",
   "version": "3.6.9"
  }
 },
 "nbformat": 4,
 "nbformat_minor": 2
}
