{
 "cells": [
  {
   "cell_type": "markdown",
   "metadata": {},
   "source": [
    "## Assignment 1:\n",
    "Number of Stops per Citizen in general, calculated using the citizen data given in the *citizens2.txt* and the De Lijn data of all stops in Belgium in the *stops.txt*."
   ]
  },
  {
   "cell_type": "markdown",
   "metadata": {},
   "source": [
    "#### Setup SparkContext and SQLContext\n",
    "The SparkContext is required to setup other aspects of this project. SQLContext allows us to read the *stops.txt* directly into a JSON dataframe, resulting in easy readability and better access to the read data."
   ]
  },
  {
   "cell_type": "code",
   "execution_count": 14,
   "metadata": {},
   "outputs": [],
   "source": [
    "from pyspark import SparkContext\n",
    "from pyspark.sql import SQLContext\n",
    "spark = SparkSession.builder.appName(\"Ex1\").getOrCreate()\n",
    "sc = spark.sparkContext\n",
    "sqlContext = SQLContext(sc)"
   ]
  },
  {
   "cell_type": "markdown",
   "metadata": {},
   "source": [
    "#### Setup Stops RDD\n",
    "Setup of the dataframes themselves for later use in extracting the total numbers of stops and citizens."
   ]
  },
  {
   "cell_type": "code",
   "execution_count": 15,
   "metadata": {},
   "outputs": [],
   "source": [
    "from pyspark.sql.functions import explode_outer\n",
    "\n",
    "stopsDF = sqlContext.read.json('data/stops.txt')\n",
    "stops = stopsDF.select(explode_outer(\"haltes\").alias(\"haltes\"))"
   ]
  },
  {
   "cell_type": "markdown",
   "metadata": {},
   "source": [
    "The *explode_outer* function enables us to return a new row for each element in the given array or map. Since all the necessary data is held in the *haltes* element in the root, as can be seen in the dataframe schema, all will now be accessible through the newly created row. To acquire the total number of stops can now be calculated using *count()*, which calculates the total number of elements in the array linked to the *haltes* element."
   ]
  },
  {
   "cell_type": "code",
   "execution_count": 16,
   "metadata": {},
   "outputs": [
    {
     "name": "stdout",
     "output_type": "stream",
     "text": [
      "Total number of stops: 35790\n"
     ]
    }
   ],
   "source": [
    "total_stops = stops.count()\n",
    "print(\"Total number of stops: {}\".format(total_stops))"
   ]
  },
  {
   "cell_type": "markdown",
   "metadata": {},
   "source": [
    "#### Setup Citizens RDD\n",
    "Using the SparkContext we can simply read the data in the *citizens2.txt* into a dataframe. Since every row has the following structure, \"{name} {total}\", we will need to extract the amounts from each row first. This requires the row to be split on spaces and take the final element, since this is the total amount.\n",
    "Every three digits are separated with a dot, meaning those need to be replaced by empty strings.\n",
    "Finally, all extracted strings must be cast to integers, so they can be added."
   ]
  },
  {
   "cell_type": "code",
   "execution_count": 17,
   "metadata": {},
   "outputs": [],
   "source": [
    "citizensDF = sc.textFile('data/citizens2.txt')\n",
    "citizens = citizensDF.map(lambda x: int(x.rpartition(\" \")[-1].replace('.', '')))"
   ]
  },
  {
   "cell_type": "markdown",
   "metadata": {},
   "source": [
    "We can now acquire the total number of citizens by simply summing all calculated integers."
   ]
  },
  {
   "cell_type": "code",
   "execution_count": 18,
   "metadata": {},
   "outputs": [
    {
     "name": "stdout",
     "output_type": "stream",
     "text": [
      "Total number of citizens: 11358357\n"
     ]
    }
   ],
   "source": [
    "total_citizens = citizens.sum()\n",
    "print(\"Total number of citizens: {}\".format(total_citizens))"
   ]
  },
  {
   "cell_type": "markdown",
   "metadata": {},
   "source": [
    "#### Calculate the number of stops per citizens\n",
    "The amount of stops per citizens can, now that we have the required values, be computed using the following formula: *total number of stops / total number of citizens*."
   ]
  },
  {
   "cell_type": "code",
   "execution_count": 19,
   "metadata": {},
   "outputs": [
    {
     "name": "stdout",
     "output_type": "stream",
     "text": [
      "Number of stops per citizen: 0.0031509838967026657\n"
     ]
    }
   ],
   "source": [
    "stops_per_citizen = total_stops / total_citizens\n",
    "print(\"Number of stops per citizen: {}\".format(stops_per_citizen))"
   ]
  }
 ],
 "metadata": {
  "kernelspec": {
   "display_name": "Python 3",
   "language": "python",
   "name": "python3"
  },
  "language_info": {
   "codemirror_mode": {
    "name": "ipython",
    "version": 3
   },
   "file_extension": ".py",
   "mimetype": "text/x-python",
   "name": "python",
   "nbconvert_exporter": "python",
   "pygments_lexer": "ipython3",
   "version": "3.6.9"
  }
 },
 "nbformat": 4,
 "nbformat_minor": 2
}
