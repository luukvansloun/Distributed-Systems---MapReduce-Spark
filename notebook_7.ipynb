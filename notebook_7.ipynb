{
 "cells": [
  {
   "cell_type": "markdown",
   "metadata": {},
   "source": [
    "## Assignment 7:\n",
    "Number of Stops per Citizen of all towns that are within a **R** radius of a certain position (lat, long), calculated using the De Lijn data of all stops in Belgium in the *stops.txt*, the district locations in *zipcodes.csv* and the citizen data in *citizens2.txt*. Since the citizen counts are required, we need to interpret the term *town* as the ones defined in the *flemish_districts.txt*. Therefore multiple joins need to be executed to get the desired result."
   ]
  },
  {
   "cell_type": "markdown",
   "metadata": {},
   "source": [
    "#### Input Variables\n",
    "Please set the desired position in *INPUT_POSITION* using the (latitude, longitude) notation. The desired radius in kilometers can be entered into *INPUT_RADIUS*."
   ]
  },
  {
   "cell_type": "code",
   "execution_count": 1,
   "metadata": {},
   "outputs": [],
   "source": [
    "INPUT_POSITION = (51.2181962, 4.4244759)\n",
    "INPUT_RADIUS = 5"
   ]
  },
  {
   "cell_type": "markdown",
   "metadata": {},
   "source": [
    "#### Setup SparkContext and SQLContext\n",
    "The SparkContext is required to setup other aspects of this project. SQLContext allows us to read the *stops.txt* directly into a JSON dataframe, resulting in easy readability and better access to the read data."
   ]
  },
  {
   "cell_type": "code",
   "execution_count": 2,
   "metadata": {},
   "outputs": [],
   "source": [
    "from pyspark import SparkContext\n",
    "from pyspark.sql import SQLContext\n",
    "spark = SparkSession.builder.appName(\"Ex7\").getOrCreate()\n",
    "sc = spark.sparkContext\n",
    "sqlContext = SQLContext(sc)"
   ]
  },
  {
   "cell_type": "markdown",
   "metadata": {},
   "source": [
    "#### Setup Stop Count for Zipcodes\n",
    "First we'll get all stops from the De Lijn data and then join them with the districts defined in *zipcodes.csv*."
   ]
  },
  {
   "cell_type": "code",
   "execution_count": 3,
   "metadata": {},
   "outputs": [],
   "source": [
    "from pyspark.sql.functions import explode_outer\n",
    "\n",
    "stopsDF = sqlContext.read.json('data/stops.txt')\n",
    "districts = stopsDF.select(explode_outer(\"haltes.omschrijvingGemeente\").alias(\"district\"))\n",
    "zipcodesDF = sqlContext.read.csv(\"data/zipcodes.csv\", sep=\";\").selectExpr(\"_c0 as zipcode\", \"_c1 as district\", \"_c2 as town_latitude\", \"_c3 as town_longitude\")"
   ]
  },
  {
   "cell_type": "code",
   "execution_count": 4,
   "metadata": {},
   "outputs": [
    {
     "name": "stdout",
     "output_type": "stream",
     "text": [
      "+-------+--------------------+-----------------+-----------------+\n",
      "|zipcode|            district|    town_latitude|   town_longitude|\n",
      "+-------+--------------------+-----------------+-----------------+\n",
      "|   1000|             Brussel|       50.8427501|4.351549900000009|\n",
      "|   1000|           Bruxelles|       50.8427501|4.351549900000009|\n",
      "|   1005|Ass. R�un. Com. C...|             null|             null|\n",
      "|   1005|Brusselse Hoofdst...|50.84487679999999|4.351433499999985|\n",
      "|   1005|Conseil Region Br...|        50.847857|4.367408000000069|\n",
      "|   1005|Ver. Verg. Gemeen...|             null|             null|\n",
      "|   1006|Raad Vlaamse Geme...|             null|             null|\n",
      "|   1007|Ass. Commiss. Com...|             null|             null|\n",
      "|   1008|Chambre des Repr�...|50.84655679999999|4.364662199999998|\n",
      "|   1008|Kamer van Volksve...|50.84655679999999|4.364662199999998|\n",
      "|   1009|    Belgische Senaat|             null|             null|\n",
      "|   1009|   Senat de Belgique|         50.79834|4.395649999999932|\n",
      "|   1010|Cit� Administrati...|             null|             null|\n",
      "|   1010|Rijksadministrati...|       50.8243276|4.513954300000023|\n",
      "|   1011|Vlaamse Raad - Vl...|             null|             null|\n",
      "|   1012|Parlement de la C...|       50.8466387|4.361992399999963|\n",
      "|   1020|     Brussel (Laken)|        50.884218|4.358000199999992|\n",
      "|   1020|  Bruxelles (Laeken)|        50.884218|4.358000199999992|\n",
      "|   1020|  Laeken (Bruxelles)|        50.884218|4.358000199999992|\n",
      "|   1020|     Laken (Brussel)|        50.884218|4.358000199999992|\n",
      "+-------+--------------------+-----------------+-----------------+\n",
      "only showing top 20 rows\n",
      "\n"
     ]
    }
   ],
   "source": [
    "zipcodesDF.show()"
   ]
  },
  {
   "cell_type": "markdown",
   "metadata": {},
   "source": [
    "Since multiple district names can be seen within the *district* column above, single names need to be extracted before the join can be executed."
   ]
  },
  {
   "cell_type": "code",
   "execution_count": 5,
   "metadata": {},
   "outputs": [],
   "source": [
    "from pyspark.sql.types import *\n",
    "from pyspark.sql.functions import udf\n",
    "\n",
    "cleanName = udf(lambda x: x.split(\" \")[0], StringType())\n",
    "\n",
    "zipcodes = zipcodesDF.withColumn(\"district\", cleanName(zipcodesDF[\"district\"]))"
   ]
  },
  {
   "cell_type": "code",
   "execution_count": 6,
   "metadata": {},
   "outputs": [
    {
     "name": "stdout",
     "output_type": "stream",
     "text": [
      "+-------+-------------------+-----------------+-----------------+\n",
      "|zipcode|           district|    town_latitude|   town_longitude|\n",
      "+-------+-------------------+-----------------+-----------------+\n",
      "|   1000|            Brussel|       50.8427501|4.351549900000009|\n",
      "|   1000|          Bruxelles|       50.8427501|4.351549900000009|\n",
      "|   1005|               Ass.|             null|             null|\n",
      "|   1005|          Brusselse|50.84487679999999|4.351433499999985|\n",
      "|   1005|            Conseil|        50.847857|4.367408000000069|\n",
      "|   1005|               Ver.|             null|             null|\n",
      "|   1006|               Raad|             null|             null|\n",
      "|   1007|               Ass.|             null|             null|\n",
      "|   1008|            Chambre|50.84655679999999|4.364662199999998|\n",
      "|   1008|              Kamer|50.84655679999999|4.364662199999998|\n",
      "|   1009|          Belgische|             null|             null|\n",
      "|   1009|              Senat|         50.79834|4.395649999999932|\n",
      "|   1010|               Cit�|             null|             null|\n",
      "|   1010|Rijksadministratief|       50.8243276|4.513954300000023|\n",
      "|   1011|            Vlaamse|             null|             null|\n",
      "|   1012|          Parlement|       50.8466387|4.361992399999963|\n",
      "|   1020|            Brussel|        50.884218|4.358000199999992|\n",
      "|   1020|          Bruxelles|        50.884218|4.358000199999992|\n",
      "|   1020|             Laeken|        50.884218|4.358000199999992|\n",
      "|   1020|              Laken|        50.884218|4.358000199999992|\n",
      "+-------+-------------------+-----------------+-----------------+\n",
      "only showing top 20 rows\n",
      "\n"
     ]
    }
   ],
   "source": [
    "zipcodes.show()"
   ]
  },
  {
   "cell_type": "markdown",
   "metadata": {},
   "source": [
    "The following joins are crucial for this assignment. The first one joins the districts and the districts in zipcodes. From that joined dataframe we count how many times a district is found in the dataframe, which is the number of stops for that district. Once we have calculated that new dataframe, we can join it with the previously joined dataframe, which results in the number of stops for each district and it's zipcode."
   ]
  },
  {
   "cell_type": "code",
   "execution_count": 7,
   "metadata": {},
   "outputs": [],
   "source": [
    "joined_dfs = districts.join(zipcodes, on=[\"district\"])\n",
    "grouped = joined_dfs.groupBy(\"district\").count().orderBy(\"district\")\n",
    "stopcount_zipcodes = joined_dfs.join(grouped, on=[\"district\"]).dropDuplicates().orderBy(\"district\")"
   ]
  },
  {
   "cell_type": "code",
   "execution_count": 8,
   "metadata": {},
   "outputs": [
    {
     "name": "stdout",
     "output_type": "stream",
     "text": [
      "+----------+-------+-----------------+------------------+-----+\n",
      "|  district|zipcode|    town_latitude|    town_longitude|count|\n",
      "+----------+-------+-----------------+------------------+-----+\n",
      "|    Aaigem|   9420|50.88915799999999|3.9372244999999566|   24|\n",
      "|   Aalbeke|   8511|       50.7784023|3.2299376999999367|    8|\n",
      "|     Aalst|   3800|         50.78166| 5.208979999999997|  420|\n",
      "|     Aalst|   9300|        50.937793|4.0409133000000566|  420|\n",
      "|    Aalter|   9880|       51.0769076| 3.432344599999965|   60|\n",
      "|  Aarschot|   3200|50.98061509999999| 4.827381000000059|   96|\n",
      "|   Aarsele|   8700|50.99693430000001| 3.422498899999937|   22|\n",
      "| Aartrijke|   8211|       51.1191688| 3.090079400000036|   35|\n",
      "|Aartselaar|   2630|       51.1338889| 4.384722199999942|   53|\n",
      "|     Achel|   3930|         51.25224| 5.479530000000068|   38|\n",
      "|    Adegem|   9991|       51.2045152|3.4900073999999677|   27|\n",
      "| Adinkerke|   8660|       51.0751267|2.6034114000000272|    6|\n",
      "|    Afsnee|   9051|       51.0305603|3.6661567999999534|   10|\n",
      "|     Alken|   3570|         50.87609|  5.30767000000003|  118|\n",
      "| Alsemberg|   1652|         50.74163| 4.336130000000026|   20|\n",
      "|Alveringem|   8690|       51.0122085|2.7130822000000308|   17|\n",
      "|Anderlecht|   1070|       50.8365808| 4.308186999999975|   96|\n",
      "| Antwerpen|   2020|       51.1890846|4.3836284000000205| 4235|\n",
      "| Antwerpen|   2030|51.27639629999999| 4.362460400000032| 4235|\n",
      "| Antwerpen|   2050|       51.2287575| 4.374022100000047| 4235|\n",
      "+----------+-------+-----------------+------------------+-----+\n",
      "only showing top 20 rows\n",
      "\n"
     ]
    }
   ],
   "source": [
    "stopcount_zipcodes.show()"
   ]
  },
  {
   "cell_type": "markdown",
   "metadata": {},
   "source": [
    "#### Calculating the distance\n",
    "The following function is designed to calculate the distance between positions, both given in (lat, long) format. The calculation is based on the radius of the earth in kilometers. This function will evaluate if the stop's location lies within the given radius."
   ]
  },
  {
   "cell_type": "code",
   "execution_count": 9,
   "metadata": {},
   "outputs": [],
   "source": [
    "from math import sin, cos, sqrt, atan2, radians\n",
    "\n",
    "# Copyright: https://stackoverflow.com/questions/19412462/getting-distance-between-two-points-based-on-latitude-longitude\n",
    "def is_within_radius(lat, long):\n",
    "    R = 6373.0\n",
    "\n",
    "    lat1 = radians(float(lat))\n",
    "    lon1 = radians(float(long))\n",
    "    lat2 = radians(INPUT_POSITION[0])\n",
    "    lon2 = radians(INPUT_POSITION[1])\n",
    "\n",
    "    dlon = lon2 - lon1\n",
    "    dlat = lat2 - lat1\n",
    "\n",
    "    a = sin(dlat / 2)**2 + cos(lat1) * cos(lat2) * sin(dlon / 2)**2\n",
    "    c = 2 * atan2(sqrt(a), sqrt(1 - a))\n",
    "\n",
    "    distance = R * c\n",
    "\n",
    "    if distance <= INPUT_RADIUS:\n",
    "        return True\n",
    "    else:\n",
    "        return False"
   ]
  },
  {
   "cell_type": "markdown",
   "metadata": {},
   "source": [
    "Using the function above we can evaluate which districts are located within the given radius, along with their stop count."
   ]
  },
  {
   "cell_type": "code",
   "execution_count": 10,
   "metadata": {},
   "outputs": [],
   "source": [
    "columns = [\"district\", \"zipcode\", \"count\"]\n",
    "rows = []\n",
    "for row in stopcount_zipcodes.rdd.collect():\n",
    "    if is_within_radius(row[2], row[3]):\n",
    "        rows.append((row[0], row[1], row[4]))\n",
    "\n",
    "districts_in_radius = spark.createDataFrame(rows, columns).dropDuplicates([\"district\"])"
   ]
  },
  {
   "cell_type": "code",
   "execution_count": 11,
   "metadata": {},
   "outputs": [
    {
     "name": "stdout",
     "output_type": "stream",
     "text": [
      "+----------+-------+-----+\n",
      "|  district|zipcode|count|\n",
      "+----------+-------+-----+\n",
      "|   Berchem|   2600|  190|\n",
      "|  Borsbeek|   2150|   21|\n",
      "|   Merksem|   2170|   75|\n",
      "|Borgerhout|   2140|   60|\n",
      "| Antwerpen|   2060| 4235|\n",
      "|    Deurne|   2100|  352|\n",
      "+----------+-------+-----+\n",
      "\n"
     ]
    }
   ],
   "source": [
    "districts_in_radius.show()"
   ]
  },
  {
   "cell_type": "markdown",
   "metadata": {},
   "source": [
    "#### Combining the computed data with the districts\n",
    "The next step consists of joining the towns in *flemish_districs.txt* on their districts with the previously found districts. This will allow us later on to find out which towns satisfy the conditions."
   ]
  },
  {
   "cell_type": "code",
   "execution_count": 12,
   "metadata": {},
   "outputs": [],
   "source": [
    "towns_districts = sc.textFile('data/flemish_districs.txt')\n",
    "towns_districts_DF = towns_districts.map(lambda x: [x.split(\":\")[0].strip().replace('‐', '-'), [p.strip().replace('‐', '-') for p in x.split(\":\")[-1].split(\",\")]]).toDF([\"town\", \"district\"])\n",
    "towns_distr_sep = towns_districts_DF.select(\"town\", explode_outer(\"district\").alias(\"district\"))"
   ]
  },
  {
   "cell_type": "markdown",
   "metadata": {},
   "source": [
    "Since the data isn't designed to incorporate separation between zipcodes and towns, duplicates are dropped. The data becomes a bit less accurate, but unfortunately there's no workaround for this."
   ]
  },
  {
   "cell_type": "code",
   "execution_count": 13,
   "metadata": {},
   "outputs": [
    {
     "name": "stdout",
     "output_type": "stream",
     "text": [
      "+----------+---------+-------+-----+\n",
      "|  district|     town|zipcode|count|\n",
      "+----------+---------+-------+-----+\n",
      "|    Deurne|Antwerpen|   2100|  352|\n",
      "|Borgerhout|Antwerpen|   2140|   60|\n",
      "| Antwerpen|Antwerpen|   2060| 4235|\n",
      "|   Berchem|Antwerpen|   2600|  190|\n",
      "|   Merksem|Antwerpen|   2170|   75|\n",
      "|  Borsbeek| Borsbeek|   2150|   21|\n",
      "+----------+---------+-------+-----+\n",
      "\n"
     ]
    }
   ],
   "source": [
    "towns_districts_count = towns_distr_sep.join(districts_in_radius, on=[\"district\"]).dropDuplicates([\"zipcode\"])\n",
    "towns_districts_count.show()"
   ]
  },
  {
   "cell_type": "markdown",
   "metadata": {},
   "source": [
    "#### Total Stop counts for the *satisfying* Towns\n",
    "The following code block is designed to use the dataframe above to, for each town, sum all stop counts of the districts belonging to that town."
   ]
  },
  {
   "cell_type": "code",
   "execution_count": 14,
   "metadata": {},
   "outputs": [
    {
     "name": "stdout",
     "output_type": "stream",
     "text": [
      "+---------+----------+\n",
      "|     town|stop_count|\n",
      "+---------+----------+\n",
      "|Antwerpen|      4912|\n",
      "| Borsbeek|        21|\n",
      "+---------+----------+\n",
      "\n"
     ]
    }
   ],
   "source": [
    "town_dict = dict()\n",
    "\n",
    "for row in towns_districts_count.rdd.collect():\n",
    "    if row[1] not in town_dict:\n",
    "        town_dict[row[1]] = int(row[3])\n",
    "    else:\n",
    "        town_dict[row[1]] += int(row[3])\n",
    "        \n",
    "columns = [\"town\", \"stop_count\"]\n",
    "rows = []\n",
    "\n",
    "for town in town_dict:\n",
    "    rows.append((town, town_dict[town]))\n",
    "    \n",
    "towns = spark.createDataFrame(rows, columns)\n",
    "towns.show()"
   ]
  },
  {
   "cell_type": "markdown",
   "metadata": {},
   "source": [
    "#### Incorporating the Citizens\n",
    "As with previous notebooks, we can extract the number of citizens from *citizens2.txt*. This requires some preprocessing, for which the *extractNames* functions is created."
   ]
  },
  {
   "cell_type": "code",
   "execution_count": 15,
   "metadata": {},
   "outputs": [],
   "source": [
    "def extractNames(data):\n",
    "    result = []\n",
    "    # Only 1 name\n",
    "    if len(data) == 1:\n",
    "        # Strip possible trailing whitespaces\n",
    "        name = data[0].strip()\n",
    "        result.append(name)\n",
    "    \n",
    "    # Both Dutch & French name\n",
    "    elif len(data) > 1:\n",
    "        for name in data:\n",
    "            # Strip possible trailing whitespaces\n",
    "            name = name.strip()\n",
    "            # Check whether name is a separation character\n",
    "            if len(name) == 1:\n",
    "                continue\n",
    "            else:\n",
    "                # Check whether name is encapsulated by parentheses\n",
    "                if name[0] == \"(\":\n",
    "                    name = name[1:-1]\n",
    "            \n",
    "            result.append(name)\n",
    "            \n",
    "    return result"
   ]
  },
  {
   "cell_type": "code",
   "execution_count": 16,
   "metadata": {},
   "outputs": [
    {
     "name": "stdout",
     "output_type": "stream",
     "text": [
      "+-------------+--------------------+\n",
      "|citizen_count|                town|\n",
      "+-------------+--------------------+\n",
      "|       117724|          Anderlecht|\n",
      "|       177112|             Brussel|\n",
      "|       177112|           Bruxelles|\n",
      "|        86336|              Elsene|\n",
      "|        86336|             Ixelles|\n",
      "|        47410|           Etterbeek|\n",
      "|        41016|               Evere|\n",
      "|        24794|           Ganshoren|\n",
      "|        52144|               Jette|\n",
      "|        21765|          Koekelberg|\n",
      "|        33725|            Oudergem|\n",
      "|        33725|           Auderghem|\n",
      "|       132097|          Schaarbeek|\n",
      "|       132097|          Schaerbeek|\n",
      "|        24831| Sint‐Agatha‐Berchem|\n",
      "|        24831|Berchem‐Sainte‐Ag...|\n",
      "|        49361|         Sint‐Gillis|\n",
      "|        49361|        Saint‐Gilles|\n",
      "|        95455| Sint‐Jans‐Molenbeek|\n",
      "|        95455|Molenbeek‐Saint‐Jean|\n",
      "+-------------+--------------------+\n",
      "only showing top 20 rows\n",
      "\n"
     ]
    }
   ],
   "source": [
    "citizensDF = sc.textFile('data/citizens2.txt')\n",
    "citizens = citizensDF.map(lambda x: [[name for name in extractNames(x.split(\" \")[:-1])], int(x.rpartition(\" \")[-1].replace('.', ''))]).toDF([\"towns\", \"citizen_count\"])\n",
    "citizens = citizens.select(\"citizen_count\", explode_outer(\"towns\").alias(\"town\"))\n",
    "citizens.show()"
   ]
  },
  {
   "cell_type": "markdown",
   "metadata": {},
   "source": [
    "Now that we have the citizen counts for each town, it's a simple matter of joining our found towns and their stop counts with the citizen counts."
   ]
  },
  {
   "cell_type": "code",
   "execution_count": 17,
   "metadata": {},
   "outputs": [
    {
     "name": "stdout",
     "output_type": "stream",
     "text": [
      "+---------+----------+-------------+\n",
      "|     town|stop_count|citizen_count|\n",
      "+---------+----------+-------------+\n",
      "|Antwerpen|      4912|       521680|\n",
      "| Borsbeek|        21|        10677|\n",
      "+---------+----------+-------------+\n",
      "\n"
     ]
    }
   ],
   "source": [
    "joined_dfs = towns.join(citizens, on=[\"town\"]).orderBy(\"town\")\n",
    "joined_dfs.show()"
   ]
  },
  {
   "cell_type": "markdown",
   "metadata": {},
   "source": [
    "#### Citizen Ratio\n",
    "The final step consists of simply dividing the stop count by the citizen count for each town, which results in the number of stops per town per citizen that are within the given radius of the given position"
   ]
  },
  {
   "cell_type": "code",
   "execution_count": 18,
   "metadata": {},
   "outputs": [
    {
     "name": "stdout",
     "output_type": "stream",
     "text": [
      "+---------+----------+-------------+--------------------+\n",
      "|     town|stop_count|citizen_count|       citizen_ratio|\n",
      "+---------+----------+-------------+--------------------+\n",
      "|Antwerpen|      4912|       521680|0.009415733783162092|\n",
      "| Borsbeek|        21|        10677|0.001966844619275077|\n",
      "+---------+----------+-------------+--------------------+\n",
      "\n"
     ]
    }
   ],
   "source": [
    "stops_per_town_per_citizen_in_radius = joined_dfs.withColumn(\"citizen_ratio\", joined_dfs[\"stop_count\"] / joined_dfs[\"citizen_count\"])\n",
    "stops_per_town_per_citizen_in_radius.show()"
   ]
  }
 ],
 "metadata": {
  "kernelspec": {
   "display_name": "Python 3",
   "language": "python",
   "name": "python3"
  },
  "language_info": {
   "codemirror_mode": {
    "name": "ipython",
    "version": 3
   },
   "file_extension": ".py",
   "mimetype": "text/x-python",
   "name": "python",
   "nbconvert_exporter": "python",
   "pygments_lexer": "ipython3",
   "version": "3.6.9"
  }
 },
 "nbformat": 4,
 "nbformat_minor": 2
}
